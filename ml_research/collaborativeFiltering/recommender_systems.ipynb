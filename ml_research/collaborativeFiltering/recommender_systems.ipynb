{
 "cells": [
  {
   "cell_type": "markdown",
   "metadata": {},
   "source": [
    "# Recommender Playlists\n",
    "\n",
    "Exploration implementing recommender system techniques using Spotify playlist data:\n",
    "\n",
    "- Popularity Recommender: Recommend popular songs regardless of user's preferences\n",
    "- Content-based Recommender: Use song attributes (e.g. genre) to recommend similar songs\n",
    "- Collaborative Recommender: Predict what songs a user might be interested in based on a collection of preference information from multiple users\n",
    "- Hybrid Recommender: A hybrid approach generally outperforms a single model and can be used to overcome some of the common problems in recommender systems such as the cold start problem and the sparsity problem\n",
    "- HybridPopularity Recommender: An extension of the hybrid approach which applies weighting/mixes in songs based on popularity\n",
    "\n",
    "For the purposes of this dataset we will focus on the playlist_tracks_df dataset and treat different playlists as different users. This is a strong approach for exploring recommendation techniques but leads to a problem the best way to recommend songs for our 'users' is based on genre (as my playlists tend to be genre-based)."
   ]
  },
  {
   "cell_type": "code",
   "execution_count": 2,
   "metadata": {},
   "outputs": [],
   "source": [
    "import numpy as np\n",
    "import pandas as pd\n",
    "import matplotlib.pyplot as plt\n",
    "import random\n",
    "import yaml"
   ]
  },
  {
   "cell_type": "code",
   "execution_count": 6,
   "metadata": {},
   "outputs": [],
   "source": [
    "from nltk.corpus import stopwords\n",
    "from scipy.sparse import csr_matrix, vstack\n",
    "from scipy.sparse.linalg import svds\n",
    "from sklearn.feature_extraction.text import TfidfVectorizer\n",
    "from sklearn.metrics.pairwise import cosine_similarity\n",
    "from sklearn.model_selection import train_test_split\n",
    "from sklearn.preprocessing import MinMaxScaler, normalize"
   ]
  },
  {
   "cell_type": "code",
   "execution_count": 7,
   "metadata": {},
   "outputs": [],
   "source": [
    "# To create a playlist and add tracks\n",
    "import spotipy \n",
    "from spotipy.oauth2 import SpotifyOAuth"
   ]
  },
  {
   "cell_type": "markdown",
   "metadata": {},
   "source": [
    "## Import Data\n",
    "\n",
    "- Artist and track data was pulled using the Spotify API via the spotipy package\n",
    "- Data was saved in pickle format using music_data.py and data_functions.py modules\n",
    "- The data can now be quickly read by multiple workflows"
   ]
  },
  {
   "cell_type": "code",
   "execution_count": 8,
   "metadata": {},
   "outputs": [],
   "source": [
    "top_artist_df = pd.read_pickle(\"spotify/top_artists.pkl\")\n",
    "followed_artists_df = pd.read_pickle(\"spotify/followed_artists.pkl\")\n",
    "top_tracks_df = pd.read_pickle(\"spotify/top_tracks.pkl\")\n",
    "saved_tracks_df = pd.read_pickle(\"spotify/saved_tracks.pkl\")\n",
    "playlist_tracks_df = pd.read_pickle(\"spotify/playlist_tracks.pkl\")\n",
    "recommendation_tracks_df = pd.read_pickle(\"spotify/recommendation_tracks.pkl\")"
   ]
  },
  {
   "cell_type": "code",
   "execution_count": 9,
   "metadata": {},
   "outputs": [
    {
     "data": {
      "text/html": [
       "<div>\n",
       "<style scoped>\n",
       "    .dataframe tbody tr th:only-of-type {\n",
       "        vertical-align: middle;\n",
       "    }\n",
       "\n",
       "    .dataframe tbody tr th {\n",
       "        vertical-align: top;\n",
       "    }\n",
       "\n",
       "    .dataframe thead th {\n",
       "        text-align: right;\n",
       "    }\n",
       "</style>\n",
       "<table border=\"1\" class=\"dataframe\">\n",
       "  <thead>\n",
       "    <tr style=\"text-align: right;\">\n",
       "      <th></th>\n",
       "      <th>id</th>\n",
       "      <th>name</th>\n",
       "      <th>popularity</th>\n",
       "      <th>type</th>\n",
       "      <th>is_local</th>\n",
       "      <th>explicit</th>\n",
       "      <th>duration_ms</th>\n",
       "      <th>disc_number</th>\n",
       "      <th>track_number</th>\n",
       "      <th>artist_id</th>\n",
       "      <th>...</th>\n",
       "      <th>speechiness</th>\n",
       "      <th>acousticness</th>\n",
       "      <th>instrumentalness</th>\n",
       "      <th>liveness</th>\n",
       "      <th>valence</th>\n",
       "      <th>tempo</th>\n",
       "      <th>uri</th>\n",
       "      <th>track_href</th>\n",
       "      <th>analysis_url</th>\n",
       "      <th>time_signature</th>\n",
       "    </tr>\n",
       "  </thead>\n",
       "  <tbody>\n",
       "    <tr>\n",
       "      <th>0</th>\n",
       "      <td>6glsMWIMIxQ4BedzLqGVi4</td>\n",
       "      <td>So Fresh, So Clean</td>\n",
       "      <td>0.73</td>\n",
       "      <td>audio_features</td>\n",
       "      <td>False</td>\n",
       "      <td>True</td>\n",
       "      <td>240027</td>\n",
       "      <td>1</td>\n",
       "      <td>4</td>\n",
       "      <td>1G9G7WwrXka3Z1r7aIDjI7</td>\n",
       "      <td>...</td>\n",
       "      <td>0.3320</td>\n",
       "      <td>0.02810</td>\n",
       "      <td>0.000000</td>\n",
       "      <td>0.099</td>\n",
       "      <td>0.915</td>\n",
       "      <td>166.028</td>\n",
       "      <td>spotify:track:6glsMWIMIxQ4BedzLqGVi4</td>\n",
       "      <td>https://api.spotify.com/v1/tracks/6glsMWIMIxQ4...</td>\n",
       "      <td>https://api.spotify.com/v1/audio-analysis/6gls...</td>\n",
       "      <td>3</td>\n",
       "    </tr>\n",
       "    <tr>\n",
       "      <th>1</th>\n",
       "      <td>0VaeksJaXy5R1nvcTMh3Xk</td>\n",
       "      <td>Darling, I (feat. Teezo Touchdown)</td>\n",
       "      <td>0.87</td>\n",
       "      <td>audio_features</td>\n",
       "      <td>False</td>\n",
       "      <td>True</td>\n",
       "      <td>253834</td>\n",
       "      <td>1</td>\n",
       "      <td>4</td>\n",
       "      <td>4V8LLVI7PbaPR0K2TGSxFF</td>\n",
       "      <td>...</td>\n",
       "      <td>0.1020</td>\n",
       "      <td>0.36000</td>\n",
       "      <td>0.000000</td>\n",
       "      <td>0.434</td>\n",
       "      <td>0.361</td>\n",
       "      <td>97.571</td>\n",
       "      <td>spotify:track:0VaeksJaXy5R1nvcTMh3Xk</td>\n",
       "      <td>https://api.spotify.com/v1/tracks/0VaeksJaXy5R...</td>\n",
       "      <td>https://api.spotify.com/v1/audio-analysis/0Vae...</td>\n",
       "      <td>4</td>\n",
       "    </tr>\n",
       "    <tr>\n",
       "      <th>2</th>\n",
       "      <td>3ZaEs1O8BG581qYPHpQ8d6</td>\n",
       "      <td>I Smoked Away My Brain (I'm God x Demons Mashu...</td>\n",
       "      <td>0.83</td>\n",
       "      <td>audio_features</td>\n",
       "      <td>False</td>\n",
       "      <td>True</td>\n",
       "      <td>190286</td>\n",
       "      <td>1</td>\n",
       "      <td>1</td>\n",
       "      <td>13ubrt8QOOCPljQ2FL1Kca</td>\n",
       "      <td>...</td>\n",
       "      <td>0.0561</td>\n",
       "      <td>0.08310</td>\n",
       "      <td>0.000041</td>\n",
       "      <td>0.175</td>\n",
       "      <td>0.104</td>\n",
       "      <td>141.981</td>\n",
       "      <td>spotify:track:3ZaEs1O8BG581qYPHpQ8d6</td>\n",
       "      <td>https://api.spotify.com/v1/tracks/3ZaEs1O8BG58...</td>\n",
       "      <td>https://api.spotify.com/v1/audio-analysis/3ZaE...</td>\n",
       "      <td>4</td>\n",
       "    </tr>\n",
       "    <tr>\n",
       "      <th>3</th>\n",
       "      <td>2JqkpMe2eJToJNHEqkJeCu</td>\n",
       "      <td>Forever Yours</td>\n",
       "      <td>0.78</td>\n",
       "      <td>audio_features</td>\n",
       "      <td>False</td>\n",
       "      <td>True</td>\n",
       "      <td>96369</td>\n",
       "      <td>1</td>\n",
       "      <td>3</td>\n",
       "      <td>3tlXnStJ1fFhdScmQeLpuG</td>\n",
       "      <td>...</td>\n",
       "      <td>0.0312</td>\n",
       "      <td>0.00426</td>\n",
       "      <td>0.000279</td>\n",
       "      <td>0.652</td>\n",
       "      <td>0.789</td>\n",
       "      <td>137.007</td>\n",
       "      <td>spotify:track:2JqkpMe2eJToJNHEqkJeCu</td>\n",
       "      <td>https://api.spotify.com/v1/tracks/2JqkpMe2eJTo...</td>\n",
       "      <td>https://api.spotify.com/v1/audio-analysis/2Jqk...</td>\n",
       "      <td>4</td>\n",
       "    </tr>\n",
       "    <tr>\n",
       "      <th>4</th>\n",
       "      <td>6FBzhcfgGacfXF3AmtfEaX</td>\n",
       "      <td>C U Girl</td>\n",
       "      <td>0.79</td>\n",
       "      <td>audio_features</td>\n",
       "      <td>False</td>\n",
       "      <td>False</td>\n",
       "      <td>129698</td>\n",
       "      <td>1</td>\n",
       "      <td>1</td>\n",
       "      <td>57vWImR43h4CaDao012Ofp</td>\n",
       "      <td>...</td>\n",
       "      <td>0.1160</td>\n",
       "      <td>0.66300</td>\n",
       "      <td>0.052300</td>\n",
       "      <td>0.128</td>\n",
       "      <td>0.409</td>\n",
       "      <td>100.000</td>\n",
       "      <td>spotify:track:6FBzhcfgGacfXF3AmtfEaX</td>\n",
       "      <td>https://api.spotify.com/v1/tracks/6FBzhcfgGacf...</td>\n",
       "      <td>https://api.spotify.com/v1/audio-analysis/6FBz...</td>\n",
       "      <td>4</td>\n",
       "    </tr>\n",
       "  </tbody>\n",
       "</table>\n",
       "<p>5 rows × 40 columns</p>\n",
       "</div>"
      ],
      "text/plain": [
       "                       id                                               name  \\\n",
       "0  6glsMWIMIxQ4BedzLqGVi4                                 So Fresh, So Clean   \n",
       "1  0VaeksJaXy5R1nvcTMh3Xk                 Darling, I (feat. Teezo Touchdown)   \n",
       "2  3ZaEs1O8BG581qYPHpQ8d6  I Smoked Away My Brain (I'm God x Demons Mashu...   \n",
       "3  2JqkpMe2eJToJNHEqkJeCu                                      Forever Yours   \n",
       "4  6FBzhcfgGacfXF3AmtfEaX                                           C U Girl   \n",
       "\n",
       "   popularity            type  is_local  explicit  duration_ms  disc_number  \\\n",
       "0        0.73  audio_features     False      True       240027            1   \n",
       "1        0.87  audio_features     False      True       253834            1   \n",
       "2        0.83  audio_features     False      True       190286            1   \n",
       "3        0.78  audio_features     False      True        96369            1   \n",
       "4        0.79  audio_features     False     False       129698            1   \n",
       "\n",
       "   track_number               artist_id  ... speechiness acousticness  \\\n",
       "0             4  1G9G7WwrXka3Z1r7aIDjI7  ...      0.3320      0.02810   \n",
       "1             4  4V8LLVI7PbaPR0K2TGSxFF  ...      0.1020      0.36000   \n",
       "2             1  13ubrt8QOOCPljQ2FL1Kca  ...      0.0561      0.08310   \n",
       "3             3  3tlXnStJ1fFhdScmQeLpuG  ...      0.0312      0.00426   \n",
       "4             1  57vWImR43h4CaDao012Ofp  ...      0.1160      0.66300   \n",
       "\n",
       "  instrumentalness liveness valence    tempo  \\\n",
       "0         0.000000    0.099   0.915  166.028   \n",
       "1         0.000000    0.434   0.361   97.571   \n",
       "2         0.000041    0.175   0.104  141.981   \n",
       "3         0.000279    0.652   0.789  137.007   \n",
       "4         0.052300    0.128   0.409  100.000   \n",
       "\n",
       "                                    uri  \\\n",
       "0  spotify:track:6glsMWIMIxQ4BedzLqGVi4   \n",
       "1  spotify:track:0VaeksJaXy5R1nvcTMh3Xk   \n",
       "2  spotify:track:3ZaEs1O8BG581qYPHpQ8d6   \n",
       "3  spotify:track:2JqkpMe2eJToJNHEqkJeCu   \n",
       "4  spotify:track:6FBzhcfgGacfXF3AmtfEaX   \n",
       "\n",
       "                                          track_href  \\\n",
       "0  https://api.spotify.com/v1/tracks/6glsMWIMIxQ4...   \n",
       "1  https://api.spotify.com/v1/tracks/0VaeksJaXy5R...   \n",
       "2  https://api.spotify.com/v1/tracks/3ZaEs1O8BG58...   \n",
       "3  https://api.spotify.com/v1/tracks/2JqkpMe2eJTo...   \n",
       "4  https://api.spotify.com/v1/tracks/6FBzhcfgGacf...   \n",
       "\n",
       "                                        analysis_url time_signature  \n",
       "0  https://api.spotify.com/v1/audio-analysis/6gls...              3  \n",
       "1  https://api.spotify.com/v1/audio-analysis/0Vae...              4  \n",
       "2  https://api.spotify.com/v1/audio-analysis/3ZaE...              4  \n",
       "3  https://api.spotify.com/v1/audio-analysis/2Jqk...              4  \n",
       "4  https://api.spotify.com/v1/audio-analysis/6FBz...              4  \n",
       "\n",
       "[5 rows x 40 columns]"
      ]
     },
     "execution_count": 9,
     "metadata": {},
     "output_type": "execute_result"
    }
   ],
   "source": [
    "playlist_tracks_df['popularity'] = playlist_tracks_df['popularity'] / 100  # normalise popularity feature between 0 and 1\n",
    "playlist_tracks_df.head()"
   ]
  },
  {
   "cell_type": "code",
   "execution_count": 10,
   "metadata": {},
   "outputs": [],
   "source": [
    "with open(\"spotify/playlists.yml\", 'r') as stream:\n",
    "    playlist_ids = yaml.safe_load(stream)"
   ]
  },
  {
   "cell_type": "markdown",
   "metadata": {},
   "source": [
    "## Evaluation Metric\n",
    "\n",
    "Here we use the Top-N accuracy metric, which evaluates the accuracy of the top recommendations provided to a user by comparing to the items the user has actually interacted in test set. This evaluation method works as follows:\n",
    "\n",
    "- For each user\n",
    "    - For each item the user has interacted in test set\n",
    "        - Sample n other items the user has never interacted with (assume these are not relevant, but the user may just have not been aware of them)\n",
    "        - Ask the recommender model to produce a ranked list of recommended items, from a set composed one interacted item and the 100 non-interacted (\"non-relevant\") items\n",
    "        - Compute the Top-N accuracy metrics for this user and interacted item from the recommendations ranked list (is the item along the Top-N ranked items)\n",
    "- Aggregate the global Top-N accuracy metrics"
   ]
  },
  {
   "cell_type": "code",
   "execution_count": 54,
   "metadata": {},
   "outputs": [],
   "source": [
    "class ModelEvaluator:\n",
    "    \n",
    "    def __init__(self, tracks):\n",
    "        self.tracks = tracks\n",
    "    \n",
    "    def evaluate_model_for_playlist(self, model, playlist_id, n=100, seed=42):\n",
    "        # Get the interacted and non-interacted tracks\n",
    "        tracks_interacted, tracks_not_interacted = get_interacted_tracks(self.tracks, playlist_id)\n",
    "        train, test = train_test_split(tracks_interacted, test_size=0.2, random_state=seed)\n",
    "        \n",
    "        # Get recommendations\n",
    "        ranked_recommendations_df = model.recommend_tracks(playlist_id)\n",
    "        \n",
    "        hits_at_5_count, hits_at_10_count = 0, 0\n",
    "        \n",
    "        for _, row in test.iterrows():\n",
    "            # Ensure n does not exceed the size of tracks_not_interacted\n",
    "            sample_size = min(n, len(tracks_not_interacted))\n",
    "            if sample_size == 0:  # Handle edge case when there are no non-interacted tracks\n",
    "                non_interacted_sample = pd.DataFrame(columns=['id'])\n",
    "            else:\n",
    "                non_interacted_sample = tracks_not_interacted.sample(sample_size, random_state=seed)\n",
    "            \n",
    "            # Prepare evaluation set\n",
    "            evaluation_ids = [row['id']] + non_interacted_sample['id'].tolist()\n",
    "            evaluation_recommendations_df = ranked_recommendations_df[\n",
    "                ranked_recommendations_df['id'].isin(evaluation_ids)\n",
    "            ]\n",
    "            \n",
    "            # Check for hits in the top 5 and top 10 recommendations\n",
    "            hits_at_5_count += 1 if row['id'] in evaluation_recommendations_df['id'][:5].tolist() else 0\n",
    "            hits_at_10_count += 1 if row['id'] in evaluation_recommendations_df['id'][:10].tolist() else 0\n",
    "        \n",
    "        # Calculate metrics\n",
    "        playlist_metrics = {\n",
    "            'n': n,\n",
    "            'evaluation_count': len(test),\n",
    "            'hits@5': hits_at_5_count,\n",
    "            'hits@10': hits_at_10_count,\n",
    "            'recall@5': hits_at_5_count / len(test) if len(test) > 0 else 0,\n",
    "            'recall@10': hits_at_10_count / len(test) if len(test) > 0 else 0,\n",
    "        }\n",
    "        \n",
    "        return playlist_metrics\n",
    "\n",
    "    def evaluate_model(self, model, n=100, seed=42):\n",
    "        playlists = []\n",
    "        for playlist_id in self.tracks['playlist_id'].unique():\n",
    "            playlist_metrics = self.evaluate_model_for_playlist(model, playlist_id, n=n, seed=seed)  \n",
    "            playlist_metrics['playlist_id'] = playlist_id\n",
    "            playlists.append(playlist_metrics)\n",
    "\n",
    "        detailed_playlists_metrics = pd.DataFrame(playlists).sort_values('evaluation_count', ascending=False)\n",
    "        \n",
    "        global_recall_at_5 = detailed_playlists_metrics['hits@5'].sum() / detailed_playlists_metrics['evaluation_count'].sum()\n",
    "        global_recall_at_10 = detailed_playlists_metrics['hits@10'].sum() / detailed_playlists_metrics['evaluation_count'].sum()\n",
    "        \n",
    "        global_metrics = {'model_name': model.model_name,\n",
    "                          'recall@5': global_recall_at_5,\n",
    "                          'recall@10': global_recall_at_10,\n",
    "                         }  \n",
    "                            \n",
    "        return global_metrics, detailed_playlists_metrics\n",
    "    \n",
    "model_evaluator = ModelEvaluator(playlist_tracks_df)"
   ]
  },
  {
   "cell_type": "markdown",
   "metadata": {},
   "source": [
    "### Interacted tracks\n",
    "\n",
    "Now to evaluate a model for a playlist (and overall), we need to get both iteracted and non-interacted tracks for a playlist."
   ]
  },
  {
   "cell_type": "code",
   "execution_count": null,
   "metadata": {},
   "outputs": [],
   "source": [
    "def get_interacted_tracks(tracks, playlist_id, drop_duplicates=True):\n",
    "    interacted_track_ids = set(tracks[tracks['playlist_id'] == playlist_id]['id'])\n",
    "    tracks_interacted = tracks[tracks['id'].isin(interacted_track_ids)]\n",
    "    tracks_not_interacted = tracks[~tracks['id'].isin(interacted_track_ids)]\n",
    "\n",
    "    if drop_duplicates is True:\n",
    "        tracks_interacted = tracks_interacted.drop_duplicates(subset='id', keep=\"first\").reset_index()\n",
    "        tracks_not_interacted = tracks_not_interacted.drop_duplicates(subset='id', keep=\"first\").reset_index()\n",
    "\n",
    "    return tracks_interacted, tracks_not_interacted"
   ]
  },
  {
   "cell_type": "code",
   "execution_count": 13,
   "metadata": {},
   "outputs": [],
   "source": [
    "interacted_tracks, non_interacted_tracks = get_interacted_tracks(playlist_tracks_df, playlist_ids['Hello'])"
   ]
  },
  {
   "cell_type": "markdown",
   "metadata": {},
   "source": [
    "## Popularity Recommender\n",
    "\n",
    "A popularity based recommender recommends songs in order of overall popularity, regardless of what the user has listened to. Spotify's 'audio features' API call automatically comes with a 'popularity' feature. Although it is 0 in ~10% of cases (higher than expectrf - these are probably default null values), this is perfect for creating a Popularity recommender.\n",
    "\n",
    "As song popularity generally accounts for the \"wisdom of the crowds\", it usually provides good recommendations overall. However this isn't tailored to the user in particular, as a good recommender system should be."
   ]
  },
  {
   "cell_type": "code",
   "execution_count": 14,
   "metadata": {},
   "outputs": [],
   "source": [
    "class PopularityRecommender:\n",
    "    \n",
    "    def __init__(self, tracks):\n",
    "        self.tracks = tracks\n",
    "        self.model_name = 'Popularity Recommender'\n",
    "    \n",
    "    def recommend_tracks(self, playlist_id, ignore_ids=[]):\n",
    "        recommendations_df = self.tracks[~self.tracks['id'].isin(ignore_ids)] \\\n",
    "                                .drop_duplicates(subset='id', keep=\"first\").reset_index() \\\n",
    "                                .sort_values('popularity', ascending=False)\n",
    "\n",
    "        return recommendations_df\n",
    "    \n",
    "popularity_model = PopularityRecommender(playlist_tracks_df)"
   ]
  },
  {
   "cell_type": "code",
   "execution_count": 16,
   "metadata": {},
   "outputs": [
    {
     "data": {
      "text/html": [
       "<div>\n",
       "<style scoped>\n",
       "    .dataframe tbody tr th:only-of-type {\n",
       "        vertical-align: middle;\n",
       "    }\n",
       "\n",
       "    .dataframe tbody tr th {\n",
       "        vertical-align: top;\n",
       "    }\n",
       "\n",
       "    .dataframe thead th {\n",
       "        text-align: right;\n",
       "    }\n",
       "</style>\n",
       "<table border=\"1\" class=\"dataframe\">\n",
       "  <thead>\n",
       "    <tr style=\"text-align: right;\">\n",
       "      <th></th>\n",
       "      <th>id</th>\n",
       "      <th>name</th>\n",
       "      <th>artist_name</th>\n",
       "      <th>album_name</th>\n",
       "      <th>popularity</th>\n",
       "    </tr>\n",
       "  </thead>\n",
       "  <tbody>\n",
       "    <tr>\n",
       "      <th>12</th>\n",
       "      <td>1Es7AUAhQvapIcoh3qMKDL</td>\n",
       "      <td>Timeless (with Playboi Carti)</td>\n",
       "      <td>The Weeknd</td>\n",
       "      <td>Timeless</td>\n",
       "      <td>0.91</td>\n",
       "    </tr>\n",
       "    <tr>\n",
       "      <th>5</th>\n",
       "      <td>7ne4VBA60CxGM75vw0EYad</td>\n",
       "      <td>That’s So True</td>\n",
       "      <td>Gracie Abrams</td>\n",
       "      <td>The Secret of Us (Deluxe)</td>\n",
       "      <td>0.90</td>\n",
       "    </tr>\n",
       "    <tr>\n",
       "      <th>16</th>\n",
       "      <td>42VsgItocQwOQC3XWZ8JNA</td>\n",
       "      <td>FE!N (feat. Playboi Carti)</td>\n",
       "      <td>Travis Scott</td>\n",
       "      <td>UTOPIA</td>\n",
       "      <td>0.89</td>\n",
       "    </tr>\n",
       "    <tr>\n",
       "      <th>13</th>\n",
       "      <td>7CyPwkp0oE8Ro9Dd5CUDjW</td>\n",
       "      <td>One Of The Girls (with JENNIE, Lily Rose Depp)</td>\n",
       "      <td>The Weeknd</td>\n",
       "      <td>The Idol Episode 4 (Music from the HBO Origina...</td>\n",
       "      <td>0.89</td>\n",
       "    </tr>\n",
       "    <tr>\n",
       "      <th>6</th>\n",
       "      <td>51rfRCiUSvxXlCSCfIztBy</td>\n",
       "      <td>I Love You, I'm Sorry</td>\n",
       "      <td>Gracie Abrams</td>\n",
       "      <td>The Secret of Us</td>\n",
       "      <td>0.89</td>\n",
       "    </tr>\n",
       "  </tbody>\n",
       "</table>\n",
       "</div>"
      ],
      "text/plain": [
       "                        id                                            name  \\\n",
       "12  1Es7AUAhQvapIcoh3qMKDL                   Timeless (with Playboi Carti)   \n",
       "5   7ne4VBA60CxGM75vw0EYad                                  That’s So True   \n",
       "16  42VsgItocQwOQC3XWZ8JNA                      FE!N (feat. Playboi Carti)   \n",
       "13  7CyPwkp0oE8Ro9Dd5CUDjW  One Of The Girls (with JENNIE, Lily Rose Depp)   \n",
       "6   51rfRCiUSvxXlCSCfIztBy                           I Love You, I'm Sorry   \n",
       "\n",
       "      artist_name                                         album_name  \\\n",
       "12     The Weeknd                                           Timeless   \n",
       "5   Gracie Abrams                          The Secret of Us (Deluxe)   \n",
       "16   Travis Scott                                             UTOPIA   \n",
       "13     The Weeknd  The Idol Episode 4 (Music from the HBO Origina...   \n",
       "6   Gracie Abrams                                   The Secret of Us   \n",
       "\n",
       "    popularity  \n",
       "12        0.91  \n",
       "5         0.90  \n",
       "16        0.89  \n",
       "13        0.89  \n",
       "6         0.89  "
      ]
     },
     "execution_count": 16,
     "metadata": {},
     "output_type": "execute_result"
    }
   ],
   "source": [
    "# You can see this is essentially sorted by popularity\n",
    "popularity_model_recommendations = popularity_model.recommend_tracks(playlist_ids['Hello'], interacted_tracks['id'].tolist())\n",
    "popularity_model_recommendations[['id', 'name', 'artist_name', 'album_name', 'popularity']].head()"
   ]
  },
  {
   "cell_type": "code",
   "execution_count": 52,
   "metadata": {},
   "outputs": [
    {
     "ename": "ValueError",
     "evalue": "Cannot take a larger sample than population when 'replace=False'",
     "output_type": "error",
     "traceback": [
      "\u001b[1;31m---------------------------------------------------------------------------\u001b[0m",
      "\u001b[1;31mValueError\u001b[0m                                Traceback (most recent call last)",
      "Cell \u001b[1;32mIn[52], line 1\u001b[0m\n\u001b[1;32m----> 1\u001b[0m popularity_model_metrics, popularity_model_details \u001b[38;5;241m=\u001b[39m \u001b[43mmodel_evaluator\u001b[49m\u001b[38;5;241;43m.\u001b[39;49m\u001b[43mevaluate_model\u001b[49m\u001b[43m(\u001b[49m\u001b[43mpopularity_model\u001b[49m\u001b[43m)\u001b[49m\n\u001b[0;32m      3\u001b[0m \u001b[38;5;28mprint\u001b[39m(popularity_model_metrics)\n\u001b[0;32m      4\u001b[0m popularity_model_details[[x \u001b[38;5;28;01mfor\u001b[39;00m x \u001b[38;5;129;01min\u001b[39;00m popularity_model_details\u001b[38;5;241m.\u001b[39mcolumns \u001b[38;5;28;01mif\u001b[39;00m x \u001b[38;5;241m!=\u001b[39m \u001b[38;5;124m'\u001b[39m\u001b[38;5;124mplaylist_id\u001b[39m\u001b[38;5;124m'\u001b[39m]] \\\n\u001b[0;32m      5\u001b[0m     \u001b[38;5;241m.\u001b[39msort_values(\u001b[38;5;124m'\u001b[39m\u001b[38;5;124mrecall@5\u001b[39m\u001b[38;5;124m'\u001b[39m, ascending\u001b[38;5;241m=\u001b[39m\u001b[38;5;28;01mFalse\u001b[39;00m) \\\n\u001b[0;32m      6\u001b[0m     \u001b[38;5;241m.\u001b[39mhead()\n",
      "Cell \u001b[1;32mIn[51], line 45\u001b[0m, in \u001b[0;36mModelEvaluator.evaluate_model\u001b[1;34m(self, model, n, seed)\u001b[0m\n\u001b[0;32m     43\u001b[0m playlists \u001b[38;5;241m=\u001b[39m []\n\u001b[0;32m     44\u001b[0m \u001b[38;5;28;01mfor\u001b[39;00m playlist_id \u001b[38;5;129;01min\u001b[39;00m \u001b[38;5;28mself\u001b[39m\u001b[38;5;241m.\u001b[39mtracks[\u001b[38;5;124m'\u001b[39m\u001b[38;5;124mplaylist_id\u001b[39m\u001b[38;5;124m'\u001b[39m]\u001b[38;5;241m.\u001b[39munique():\n\u001b[1;32m---> 45\u001b[0m     playlist_metrics \u001b[38;5;241m=\u001b[39m \u001b[38;5;28;43mself\u001b[39;49m\u001b[38;5;241;43m.\u001b[39;49m\u001b[43mevaluate_model_for_playlist\u001b[49m\u001b[43m(\u001b[49m\u001b[43mmodel\u001b[49m\u001b[43m,\u001b[49m\u001b[43m \u001b[49m\u001b[43mplaylist_id\u001b[49m\u001b[43m,\u001b[49m\u001b[43m \u001b[49m\u001b[43mn\u001b[49m\u001b[38;5;241;43m=\u001b[39;49m\u001b[43mn\u001b[49m\u001b[43m,\u001b[49m\u001b[43m \u001b[49m\u001b[43mseed\u001b[49m\u001b[38;5;241;43m=\u001b[39;49m\u001b[43mseed\u001b[49m\u001b[43m)\u001b[49m  \n\u001b[0;32m     46\u001b[0m     playlist_metrics[\u001b[38;5;124m'\u001b[39m\u001b[38;5;124mplaylist_id\u001b[39m\u001b[38;5;124m'\u001b[39m] \u001b[38;5;241m=\u001b[39m playlist_id\n\u001b[0;32m     47\u001b[0m     playlists\u001b[38;5;241m.\u001b[39mappend(playlist_metrics)\n",
      "Cell \u001b[1;32mIn[51], line 24\u001b[0m, in \u001b[0;36mModelEvaluator.evaluate_model_for_playlist\u001b[1;34m(self, model, playlist_id, n, seed)\u001b[0m\n\u001b[0;32m     22\u001b[0m     non_interacted_sample \u001b[38;5;241m=\u001b[39m pd\u001b[38;5;241m.\u001b[39mDataFrame(columns\u001b[38;5;241m=\u001b[39m[\u001b[38;5;124m'\u001b[39m\u001b[38;5;124mid\u001b[39m\u001b[38;5;124m'\u001b[39m])\n\u001b[0;32m     23\u001b[0m \u001b[38;5;28;01melse\u001b[39;00m:\n\u001b[1;32m---> 24\u001b[0m     non_interacted_sample \u001b[38;5;241m=\u001b[39m \u001b[43mtracks_not_interacted\u001b[49m\u001b[38;5;241;43m.\u001b[39;49m\u001b[43msample\u001b[49m\u001b[43m(\u001b[49m\u001b[43mn\u001b[49m\u001b[43m,\u001b[49m\u001b[43m \u001b[49m\u001b[43mrandom_state\u001b[49m\u001b[38;5;241;43m=\u001b[39;49m\u001b[43mseed\u001b[49m\u001b[43m)\u001b[49m\n\u001b[0;32m     26\u001b[0m evaluation_ids \u001b[38;5;241m=\u001b[39m [row[\u001b[38;5;124m'\u001b[39m\u001b[38;5;124mid\u001b[39m\u001b[38;5;124m'\u001b[39m]] \u001b[38;5;241m+\u001b[39m non_interacted_sample[\u001b[38;5;124m'\u001b[39m\u001b[38;5;124mid\u001b[39m\u001b[38;5;124m'\u001b[39m]\u001b[38;5;241m.\u001b[39mtolist()\n\u001b[0;32m     27\u001b[0m evaluation_recommendations_df \u001b[38;5;241m=\u001b[39m ranked_recommendations_df[ranked_recommendations_df[\u001b[38;5;124m'\u001b[39m\u001b[38;5;124mid\u001b[39m\u001b[38;5;124m'\u001b[39m]\u001b[38;5;241m.\u001b[39misin(evaluation_ids)]\n",
      "File \u001b[1;32mc:\\Users\\dmhsc\\spotify-recommender-systems\\.venv\\lib\\site-packages\\pandas\\core\\generic.py:6118\u001b[0m, in \u001b[0;36mNDFrame.sample\u001b[1;34m(self, n, frac, replace, weights, random_state, axis, ignore_index)\u001b[0m\n\u001b[0;32m   6115\u001b[0m \u001b[38;5;28;01mif\u001b[39;00m weights \u001b[38;5;129;01mis\u001b[39;00m \u001b[38;5;129;01mnot\u001b[39;00m \u001b[38;5;28;01mNone\u001b[39;00m:\n\u001b[0;32m   6116\u001b[0m     weights \u001b[38;5;241m=\u001b[39m sample\u001b[38;5;241m.\u001b[39mpreprocess_weights(\u001b[38;5;28mself\u001b[39m, weights, axis)\n\u001b[1;32m-> 6118\u001b[0m sampled_indices \u001b[38;5;241m=\u001b[39m \u001b[43msample\u001b[49m\u001b[38;5;241;43m.\u001b[39;49m\u001b[43msample\u001b[49m\u001b[43m(\u001b[49m\u001b[43mobj_len\u001b[49m\u001b[43m,\u001b[49m\u001b[43m \u001b[49m\u001b[43msize\u001b[49m\u001b[43m,\u001b[49m\u001b[43m \u001b[49m\u001b[43mreplace\u001b[49m\u001b[43m,\u001b[49m\u001b[43m \u001b[49m\u001b[43mweights\u001b[49m\u001b[43m,\u001b[49m\u001b[43m \u001b[49m\u001b[43mrs\u001b[49m\u001b[43m)\u001b[49m\n\u001b[0;32m   6119\u001b[0m result \u001b[38;5;241m=\u001b[39m \u001b[38;5;28mself\u001b[39m\u001b[38;5;241m.\u001b[39mtake(sampled_indices, axis\u001b[38;5;241m=\u001b[39maxis)\n\u001b[0;32m   6121\u001b[0m \u001b[38;5;28;01mif\u001b[39;00m ignore_index:\n",
      "File \u001b[1;32mc:\\Users\\dmhsc\\spotify-recommender-systems\\.venv\\lib\\site-packages\\pandas\\core\\sample.py:152\u001b[0m, in \u001b[0;36msample\u001b[1;34m(obj_len, size, replace, weights, random_state)\u001b[0m\n\u001b[0;32m    149\u001b[0m     \u001b[38;5;28;01melse\u001b[39;00m:\n\u001b[0;32m    150\u001b[0m         \u001b[38;5;28;01mraise\u001b[39;00m \u001b[38;5;167;01mValueError\u001b[39;00m(\u001b[38;5;124m\"\u001b[39m\u001b[38;5;124mInvalid weights: weights sum to zero\u001b[39m\u001b[38;5;124m\"\u001b[39m)\n\u001b[1;32m--> 152\u001b[0m \u001b[38;5;28;01mreturn\u001b[39;00m \u001b[43mrandom_state\u001b[49m\u001b[38;5;241;43m.\u001b[39;49m\u001b[43mchoice\u001b[49m\u001b[43m(\u001b[49m\u001b[43mobj_len\u001b[49m\u001b[43m,\u001b[49m\u001b[43m \u001b[49m\u001b[43msize\u001b[49m\u001b[38;5;241;43m=\u001b[39;49m\u001b[43msize\u001b[49m\u001b[43m,\u001b[49m\u001b[43m \u001b[49m\u001b[43mreplace\u001b[49m\u001b[38;5;241;43m=\u001b[39;49m\u001b[43mreplace\u001b[49m\u001b[43m,\u001b[49m\u001b[43m \u001b[49m\u001b[43mp\u001b[49m\u001b[38;5;241;43m=\u001b[39;49m\u001b[43mweights\u001b[49m\u001b[43m)\u001b[49m\u001b[38;5;241m.\u001b[39mastype(\n\u001b[0;32m    153\u001b[0m     np\u001b[38;5;241m.\u001b[39mintp, copy\u001b[38;5;241m=\u001b[39m\u001b[38;5;28;01mFalse\u001b[39;00m\n\u001b[0;32m    154\u001b[0m )\n",
      "File \u001b[1;32mnumpy\\\\random\\\\mtrand.pyx:1024\u001b[0m, in \u001b[0;36mnumpy.random.mtrand.RandomState.choice\u001b[1;34m()\u001b[0m\n",
      "\u001b[1;31mValueError\u001b[0m: Cannot take a larger sample than population when 'replace=False'"
     ]
    }
   ],
   "source": [
    "popularity_model_metrics, popularity_model_details = model_evaluator.evaluate_model(popularity_model)\n",
    "\n",
    "print(popularity_model_metrics)\n",
    "popularity_model_details[[x for x in popularity_model_details.columns if x != 'playlist_id']] \\\n",
    "    .sort_values('recall@5', ascending=False) \\\n",
    "    .head()"
   ]
  },
  {
   "cell_type": "markdown",
   "metadata": {},
   "source": [
    "As one would expect, solely recommending by popularity is a poor way to recommend tracks. As we will see later it is however a good method to mix in for variety and to avoid the cold-start problem."
   ]
  },
  {
   "cell_type": "markdown",
   "metadata": {},
   "source": [
    "## Content-based Recommender\n",
    "\n",
    "A content-based recommender leverages attributes from items the user has interacted with to recommend similar items. As it depends only on the past this method avoids the cold-start problem for implementation.\n",
    "\n",
    "For text items we can use a popular information retrieval method used in search engines named TF-IDF. This technique converts unstructured text into a vector structure, where each word is represented by a position in the vector, and the value measures how relevant a given word is for an article. We can then compute the cosine similarity between the user vector and the initial sparse matrix (all users)."
   ]
  },
  {
   "cell_type": "markdown",
   "metadata": {},
   "source": [
    "### TF-IDF\n",
    "\n",
    "First we need to apply the TF-IDF technique, and use it to build playlist profiles"
   ]
  },
  {
   "cell_type": "code",
   "execution_count": 30,
   "metadata": {},
   "outputs": [],
   "source": [
    "from sklearn.feature_extraction.text import TfidfVectorizer\n",
    "from nltk.corpus import stopwords\n",
    "\n",
    "def get_tfidf(tracks, ngram_range=(1, 2), min_df=0.003, max_df=0.5, max_features=5000):\n",
    "    # Transform list cols to string, we use bigrams later so no need to remove spaces\n",
    "    tracks['genres_str'] = tracks['genres'].apply(lambda x: ' '.join(x))\n",
    "\n",
    "    # Initialize TfidfVectorizer\n",
    "    vectorizer = TfidfVectorizer(analyzer='word',\n",
    "                                 ngram_range=ngram_range,\n",
    "                                 min_df=min_df,\n",
    "                                 max_df=max_df,\n",
    "                                 max_features=max_features,\n",
    "                                 stop_words=stopwords.words('english'))\n",
    "\n",
    "    # Create TF-IDF matrix\n",
    "    tfidf_matrix = vectorizer.fit_transform(tracks['name'] + ' ' +\n",
    "                                            tracks['artist_name'] + ' ' +\n",
    "                                            tracks['album_name'] + ' ' +\n",
    "                                            tracks['playlist_name'] + ' ' +\n",
    "                                            tracks['genres_str']\n",
    "                                           )\n",
    "\n",
    "    # Use get_feature_names_out instead of get_feature_names\n",
    "    tfidf_feature_names = vectorizer.get_feature_names_out()\n",
    "\n",
    "    return tfidf_matrix, tfidf_feature_names\n"
   ]
  },
  {
   "cell_type": "code",
   "execution_count": 31,
   "metadata": {},
   "outputs": [
    {
     "name": "stderr",
     "output_type": "stream",
     "text": [
      "[nltk_data] Downloading package stopwords to\n",
      "[nltk_data]     C:\\Users\\dmhsc\\AppData\\Roaming\\nltk_data...\n",
      "[nltk_data]   Package stopwords is already up-to-date!\n"
     ]
    },
    {
     "data": {
      "text/plain": [
       "<Compressed Sparse Row sparse matrix of dtype 'float64'\n",
       "\twith 618 stored elements and shape (35, 370)>"
      ]
     },
     "execution_count": 31,
     "metadata": {},
     "output_type": "execute_result"
    }
   ],
   "source": [
    "import nltk\n",
    "nltk.download('stopwords')\n",
    "tfidf_matrix, tfidf_feature_names = get_tfidf(playlist_tracks_df)\n",
    "tfidf_matrix"
   ]
  },
  {
   "cell_type": "code",
   "execution_count": 43,
   "metadata": {},
   "outputs": [],
   "source": [
    "import numpy as np\n",
    "from sklearn.preprocessing import normalize\n",
    "\n",
    "def get_track_profile(tracks, track_id, tfidf_matrix):\n",
    "    idx = tracks['id'].tolist().index(track_id)\n",
    "    track_profile = tfidf_matrix[idx:idx+1]\n",
    "    return track_profile\n",
    "\n",
    "def get_track_profiles(tracks, track_ids, tfidf_matrix):\n",
    "    track_profiles_list = [get_track_profile(tracks, x, tfidf_matrix) for x in track_ids]\n",
    "    track_profiles = vstack(track_profiles_list)\n",
    "    return track_profiles\n",
    "\n",
    "def build_playlists_profile(tracks, playlist_id, interactions_indexed_df, tfidf_matrix):\n",
    "    # There isn't any weighting we want to do in this case, \n",
    "    # but a common approach is weighting by interaction strength (liking, commenting, etc.)\n",
    "    interaction_tracks_df = interactions_indexed_df.loc[playlist_id]  # duplicate interacted tracks, filter to current playlist\n",
    "    playlist_track_profiles = get_track_profiles(tracks, interaction_tracks_df['id'], tfidf_matrix)\n",
    "    # Weighted average for event strengths\n",
    "#     playlist_track_strengths = np.array(interaction_tracks_df['event_strength']).reshape(-1,1)\n",
    "#     playlist_track_profiles_array = np.sum(playlist_track_profiles.multiply(playlist_track_strengths), axis=0) / np.sum(playlist_track_strengths)\n",
    "    playlist_track_profiles_array = np.asarray(np.sum(playlist_track_profiles, axis=0))  # Flattens no_tracksx948 matrix to 1x948 array\n",
    "    playlist_track_profiles_norm = normalize(playlist_track_profiles_array)\n",
    "    return playlist_track_profiles_norm\n",
    "\n",
    "def build_playlists_profiles(tracks, tfidf_matrix): \n",
    "    playlist_profiles = {}\n",
    "    for playlist_id in tracks['playlist_id'].unique():\n",
    "        interacted_tracks, non_interacted_tracks = get_interacted_tracks(tracks, playlist_id, drop_duplicates=False)\n",
    "        playlist_profiles[playlist_id] = build_playlists_profile(tracks, playlist_id, interacted_tracks.set_index('playlist_id'), tfidf_matrix)\n",
    "    return playlist_profiles"
   ]
  },
  {
   "cell_type": "code",
   "execution_count": 44,
   "metadata": {},
   "outputs": [
    {
     "data": {
      "text/plain": [
       "(3, 3)"
      ]
     },
     "execution_count": 44,
     "metadata": {},
     "output_type": "execute_result"
    }
   ],
   "source": [
    "playlist_profiles = build_playlists_profiles(playlist_tracks_df, tfidf_matrix)\n",
    "len(playlist_profiles), len(playlist_tracks_df['playlist_id'].unique())  # all playlists accounted for"
   ]
  },
  {
   "cell_type": "code",
   "execution_count": 45,
   "metadata": {},
   "outputs": [
    {
     "name": "stdout",
     "output_type": "stream",
     "text": [
      "(1, 370)\n"
     ]
    },
    {
     "data": {
      "text/html": [
       "<div>\n",
       "<style scoped>\n",
       "    .dataframe tbody tr th:only-of-type {\n",
       "        vertical-align: middle;\n",
       "    }\n",
       "\n",
       "    .dataframe tbody tr th {\n",
       "        vertical-align: top;\n",
       "    }\n",
       "\n",
       "    .dataframe thead th {\n",
       "        text-align: right;\n",
       "    }\n",
       "</style>\n",
       "<table border=\"1\" class=\"dataframe\">\n",
       "  <thead>\n",
       "    <tr style=\"text-align: right;\">\n",
       "      <th></th>\n",
       "      <th>token</th>\n",
       "      <th>relevance</th>\n",
       "    </tr>\n",
       "  </thead>\n",
       "  <tbody>\n",
       "    <tr>\n",
       "      <th>0</th>\n",
       "      <td>hip</td>\n",
       "      <td>0.306571</td>\n",
       "    </tr>\n",
       "    <tr>\n",
       "      <th>1</th>\n",
       "      <td>hip hop</td>\n",
       "      <td>0.306571</td>\n",
       "    </tr>\n",
       "    <tr>\n",
       "      <th>2</th>\n",
       "      <td>hop</td>\n",
       "      <td>0.306571</td>\n",
       "    </tr>\n",
       "    <tr>\n",
       "      <th>3</th>\n",
       "      <td>hello</td>\n",
       "      <td>0.305489</td>\n",
       "    </tr>\n",
       "    <tr>\n",
       "      <th>4</th>\n",
       "      <td>rap</td>\n",
       "      <td>0.254931</td>\n",
       "    </tr>\n",
       "    <tr>\n",
       "      <th>5</th>\n",
       "      <td>hello rap</td>\n",
       "      <td>0.173750</td>\n",
       "    </tr>\n",
       "    <tr>\n",
       "      <th>6</th>\n",
       "      <td>hop rap</td>\n",
       "      <td>0.171406</td>\n",
       "    </tr>\n",
       "    <tr>\n",
       "      <th>7</th>\n",
       "      <td>chromakopia</td>\n",
       "      <td>0.125325</td>\n",
       "    </tr>\n",
       "    <tr>\n",
       "      <th>8</th>\n",
       "      <td>chromakopia hello</td>\n",
       "      <td>0.125325</td>\n",
       "    </tr>\n",
       "    <tr>\n",
       "      <th>9</th>\n",
       "      <td>creator</td>\n",
       "      <td>0.125325</td>\n",
       "    </tr>\n",
       "  </tbody>\n",
       "</table>\n",
       "</div>"
      ],
      "text/plain": [
       "               token  relevance\n",
       "0                hip   0.306571\n",
       "1            hip hop   0.306571\n",
       "2                hop   0.306571\n",
       "3              hello   0.305489\n",
       "4                rap   0.254931\n",
       "5          hello rap   0.173750\n",
       "6            hop rap   0.171406\n",
       "7        chromakopia   0.125325\n",
       "8  chromakopia hello   0.125325\n",
       "9            creator   0.125325"
      ]
     },
     "execution_count": 45,
     "metadata": {},
     "output_type": "execute_result"
    }
   ],
   "source": [
    "# Get the keywords for my \"Chill\" playlist\n",
    "chill_profile = playlist_profiles[playlist_ids['Hello']]\n",
    "print(chill_profile.shape)  # 95 songs of vector length 948\n",
    "pd.DataFrame(sorted(zip(tfidf_feature_names, chill_profile.flatten().tolist()), key=lambda x: -x[1])[:10],  # sort by value desc\n",
    "             columns=['token', 'relevance'])"
   ]
  },
  {
   "cell_type": "markdown",
   "metadata": {},
   "source": [
    "### Apply Content-based Recommender\n",
    "\n",
    "Now with our playlist profiles setup, we can apply a content-based recommender."
   ]
  },
  {
   "cell_type": "code",
   "execution_count": 46,
   "metadata": {},
   "outputs": [],
   "source": [
    "class ContentRecommender:\n",
    "    \n",
    "    def __init__(self, tracks, tfidf_matrix, playlist_profiles):\n",
    "        self.tracks = tracks\n",
    "        self.tfidf_matrix = tfidf_matrix\n",
    "        self.playlist_profiles = playlist_profiles\n",
    "        self.model_name = 'Content-based Recommender'\n",
    "\n",
    "    def _get_similar_tracks(self, playlist_id):\n",
    "        #Computes the cosine similarity between the playlist profile and all profiles\n",
    "        cosine_similarities = cosine_similarity(self.playlist_profiles[playlist_id], self.tfidf_matrix)\n",
    "        similar_indices = cosine_similarities.argsort().flatten()\n",
    "        #Sort the similar tracks by similarity\n",
    "        similar_tracks = sorted([(self.tracks['id'].tolist()[i], cosine_similarities[0,i]) for i in similar_indices], key=lambda x: -x[1])\n",
    "        return similar_tracks\n",
    "        \n",
    "    def recommend_tracks(self, playlist_id, ignore_ids=[]):\n",
    "        similar_tracks = self._get_similar_tracks(playlist_id)\n",
    "        similar_tracks_non_interacted = list(filter(lambda x: x[0] not in ignore_ids, similar_tracks))\n",
    "        recommendations_df = pd.DataFrame(similar_tracks_non_interacted, columns=['id', 'recStrength']) \\\n",
    "                                .drop_duplicates(subset='id', keep=\"first\").reset_index() \\\n",
    "                                .sort_values('recStrength', ascending=False)\n",
    "\n",
    "        return recommendations_df\n",
    "    \n",
    "content_model = ContentRecommender(playlist_tracks_df, tfidf_matrix, playlist_profiles)"
   ]
  },
  {
   "cell_type": "code",
   "execution_count": 48,
   "metadata": {},
   "outputs": [
    {
     "data": {
      "text/html": [
       "<div>\n",
       "<style scoped>\n",
       "    .dataframe tbody tr th:only-of-type {\n",
       "        vertical-align: middle;\n",
       "    }\n",
       "\n",
       "    .dataframe tbody tr th {\n",
       "        vertical-align: top;\n",
       "    }\n",
       "\n",
       "    .dataframe thead th {\n",
       "        text-align: right;\n",
       "    }\n",
       "</style>\n",
       "<table border=\"1\" class=\"dataframe\">\n",
       "  <thead>\n",
       "    <tr style=\"text-align: right;\">\n",
       "      <th></th>\n",
       "      <th>id</th>\n",
       "      <th>name</th>\n",
       "      <th>artist_name</th>\n",
       "      <th>album_name</th>\n",
       "      <th>recStrength</th>\n",
       "    </tr>\n",
       "  </thead>\n",
       "  <tbody>\n",
       "    <tr>\n",
       "      <th>0</th>\n",
       "      <td>28drn6tQo95MRvO0jQEo5C</td>\n",
       "      <td>Type Shit</td>\n",
       "      <td>Future</td>\n",
       "      <td>WE DON'T TRUST YOU</td>\n",
       "      <td>0.454809</td>\n",
       "    </tr>\n",
       "    <tr>\n",
       "      <th>1</th>\n",
       "      <td>42VsgItocQwOQC3XWZ8JNA</td>\n",
       "      <td>FE!N (feat. Playboi Carti)</td>\n",
       "      <td>Travis Scott</td>\n",
       "      <td>UTOPIA</td>\n",
       "      <td>0.044265</td>\n",
       "    </tr>\n",
       "    <tr>\n",
       "      <th>2</th>\n",
       "      <td>3xby7fOyqmeON8jsnom0AT</td>\n",
       "      <td>Nightcrawler (feat. Swae Lee &amp; Chief Keef)</td>\n",
       "      <td>Travis Scott</td>\n",
       "      <td>Rodeo</td>\n",
       "      <td>0.038634</td>\n",
       "    </tr>\n",
       "    <tr>\n",
       "      <th>3</th>\n",
       "      <td>6NMtzpDQBTOfJwMzgMX0zl</td>\n",
       "      <td>SKELETONS</td>\n",
       "      <td>Travis Scott</td>\n",
       "      <td>ASTROWORLD</td>\n",
       "      <td>0.035325</td>\n",
       "    </tr>\n",
       "    <tr>\n",
       "      <th>4</th>\n",
       "      <td>6gBFPUFcJLzWGx4lenP6h2</td>\n",
       "      <td>goosebumps</td>\n",
       "      <td>Travis Scott</td>\n",
       "      <td>Birds In The Trap Sing McKnight</td>\n",
       "      <td>0.034553</td>\n",
       "    </tr>\n",
       "  </tbody>\n",
       "</table>\n",
       "</div>"
      ],
      "text/plain": [
       "                       id                                        name  \\\n",
       "0  28drn6tQo95MRvO0jQEo5C                                   Type Shit   \n",
       "1  42VsgItocQwOQC3XWZ8JNA                  FE!N (feat. Playboi Carti)   \n",
       "2  3xby7fOyqmeON8jsnom0AT  Nightcrawler (feat. Swae Lee & Chief Keef)   \n",
       "3  6NMtzpDQBTOfJwMzgMX0zl                                   SKELETONS   \n",
       "4  6gBFPUFcJLzWGx4lenP6h2                                  goosebumps   \n",
       "\n",
       "    artist_name                       album_name  recStrength  \n",
       "0        Future               WE DON'T TRUST YOU     0.454809  \n",
       "1  Travis Scott                           UTOPIA     0.044265  \n",
       "2  Travis Scott                            Rodeo     0.038634  \n",
       "3  Travis Scott                       ASTROWORLD     0.035325  \n",
       "4  Travis Scott  Birds In The Trap Sing McKnight     0.034553  "
      ]
     },
     "execution_count": 48,
     "metadata": {},
     "output_type": "execute_result"
    }
   ],
   "source": [
    "content_model_recommendations = content_model.recommend_tracks(playlist_ids['Hello'], interacted_tracks['id'].tolist())\n",
    "# Get track details from original track data\n",
    "content_model_recommendations_name = pd.merge(content_model_recommendations, playlist_tracks_df.drop_duplicates(subset='id', keep=\"first\"), how='left', on='id')\n",
    "content_model_recommendations_name[['id', 'name', 'artist_name', 'album_name', 'recStrength']].head()"
   ]
  },
  {
   "cell_type": "code",
   "execution_count": 55,
   "metadata": {},
   "outputs": [
    {
     "name": "stdout",
     "output_type": "stream",
     "text": [
      "{'model_name': 'Content-based Recommender', 'recall@5': np.float64(1.0), 'recall@10': np.float64(1.0)}\n"
     ]
    },
    {
     "data": {
      "text/html": [
       "<div>\n",
       "<style scoped>\n",
       "    .dataframe tbody tr th:only-of-type {\n",
       "        vertical-align: middle;\n",
       "    }\n",
       "\n",
       "    .dataframe tbody tr th {\n",
       "        vertical-align: top;\n",
       "    }\n",
       "\n",
       "    .dataframe thead th {\n",
       "        text-align: right;\n",
       "    }\n",
       "</style>\n",
       "<table border=\"1\" class=\"dataframe\">\n",
       "  <thead>\n",
       "    <tr style=\"text-align: right;\">\n",
       "      <th></th>\n",
       "      <th>n</th>\n",
       "      <th>evaluation_count</th>\n",
       "      <th>hits@5</th>\n",
       "      <th>hits@10</th>\n",
       "      <th>recall@5</th>\n",
       "      <th>recall@10</th>\n",
       "    </tr>\n",
       "  </thead>\n",
       "  <tbody>\n",
       "    <tr>\n",
       "      <th>0</th>\n",
       "      <td>100</td>\n",
       "      <td>3</td>\n",
       "      <td>3</td>\n",
       "      <td>3</td>\n",
       "      <td>1.0</td>\n",
       "      <td>1.0</td>\n",
       "    </tr>\n",
       "    <tr>\n",
       "      <th>1</th>\n",
       "      <td>100</td>\n",
       "      <td>3</td>\n",
       "      <td>3</td>\n",
       "      <td>3</td>\n",
       "      <td>1.0</td>\n",
       "      <td>1.0</td>\n",
       "    </tr>\n",
       "    <tr>\n",
       "      <th>2</th>\n",
       "      <td>100</td>\n",
       "      <td>3</td>\n",
       "      <td>3</td>\n",
       "      <td>3</td>\n",
       "      <td>1.0</td>\n",
       "      <td>1.0</td>\n",
       "    </tr>\n",
       "  </tbody>\n",
       "</table>\n",
       "</div>"
      ],
      "text/plain": [
       "     n  evaluation_count  hits@5  hits@10  recall@5  recall@10\n",
       "0  100                 3       3        3       1.0        1.0\n",
       "1  100                 3       3        3       1.0        1.0\n",
       "2  100                 3       3        3       1.0        1.0"
      ]
     },
     "execution_count": 55,
     "metadata": {},
     "output_type": "execute_result"
    }
   ],
   "source": [
    "content_model_metrics, content_model_details = model_evaluator.evaluate_model(content_model)\n",
    "\n",
    "print(content_model_metrics)\n",
    "content_model_details[[x for x in content_model_details.columns if x != 'playlist_id']] \\\n",
    "    .sort_values('recall@5', ascending=False) \\\n",
    "    .head()"
   ]
  },
  {
   "cell_type": "markdown",
   "metadata": {},
   "source": [
    "From the token relevance and exceptionally high recall it like the genre of a song is a very powerful recommender for me personally. It is likely that the Spotify breakdown of genres e.g. modern pop and chill pop helps a lot with this, alongside the bias of the dataset being playlist based (which tend to be genre/mood based)."
   ]
  },
  {
   "cell_type": "markdown",
   "metadata": {},
   "source": [
    "## Collaborative Recommender\n",
    "\n",
    "There are two main implementation strategies for a collaborative recommender:\n",
    "\n",
    "- **Memory-based:** Computes user (user-based) or item (item-based) similarities based on past user interactions with items\n",
    "- **Model-based:** Like in the accompanying recommender_playlists.ipynb file, models are developed using different ML algorithms such as neural networks, bayesian networks, and clustering models, as well as latent factor models such as Singular Value Decomposition (SVD) and, probabilistic latent semantic analysis"
   ]
  },
  {
   "cell_type": "markdown",
   "metadata": {},
   "source": [
    "### Matrix Factorisation\n",
    "\n",
    "Latent factor models compress a user-item matrix into a low-dimensional representation in terms of latent factors. This has several advantages including fewer missing values, better scalability during similarity comparison, and that we will be dealing with a much smaller matrix in lower-dimensional space. Note that model-based approaches handle the sparsity of the original matrix better than memory-based ones. An important number is the number of selected factors to factor the user-item matrix. The higher the number of factors, the more precise is the factorisation, and the more details of the original matrix which are memorized. Reducing the number of factors increases the model generalisation whilst too many factors can lead to overfitting (high variance).\n",
    "\n",
    "Here we a use popular latent factor model named Singular Value Decomposition (SVD) which is available in SciPy. Other choices might have been surprise, mrec, or python-recsys."
   ]
  },
  {
   "cell_type": "code",
   "execution_count": 56,
   "metadata": {},
   "outputs": [
    {
     "data": {
      "text/plain": [
       "array([[1., 1., 0., 0., 0., 0., 0., 0., 0., 1., 1., 0., 1., 0., 1., 1.,\n",
       "        1., 1., 0., 0., 0., 0., 0., 0., 0., 1., 1., 1., 0., 0., 0., 1.,\n",
       "        0., 0., 0.],\n",
       "       [0., 0., 1., 0., 1., 0., 0., 0., 0., 0., 0., 1., 0., 1., 0., 0.,\n",
       "        0., 0., 0., 0., 1., 1., 1., 1., 1., 0., 0., 0., 0., 1., 0., 0.,\n",
       "        0., 1., 0.],\n",
       "       [0., 0., 0., 1., 0., 1., 1., 1., 1., 0., 0., 0., 0., 0., 0., 0.,\n",
       "        0., 0., 1., 1., 0., 0., 0., 0., 0., 0., 0., 0., 1., 0., 1., 0.,\n",
       "        1., 0., 1.]])"
      ]
     },
     "execution_count": 56,
     "metadata": {},
     "output_type": "execute_result"
    }
   ],
   "source": [
    "#Creating a sparse pivot table with users in rows and items in columns\n",
    "playlist_tracks_df['event_strength'] = 1  ## create dummy column for pivot value\n",
    "playlist_tracks_matrix_df = playlist_tracks_df.pivot_table(index='playlist_id',\n",
    "                                                           columns='id',\n",
    "                                                           values='event_strength',\n",
    "                                                           aggfunc='sum',\n",
    "                                                          ).fillna(0)\n",
    "\n",
    "playlist_tracks_matrix_df.values"
   ]
  },
  {
   "cell_type": "code",
   "execution_count": 57,
   "metadata": {},
   "outputs": [
    {
     "data": {
      "text/plain": [
       "<Compressed Sparse Row sparse matrix of dtype 'float64'\n",
       "\twith 35 stored elements and shape (3, 35)>"
      ]
     },
     "execution_count": 57,
     "metadata": {},
     "output_type": "execute_result"
    }
   ],
   "source": [
    "playlist_tracks_matrix = playlist_tracks_matrix_df.values\n",
    "playlist_tracks_sparse = csr_matrix(playlist_tracks_matrix)\n",
    "playlist_tracks_sparse"
   ]
  },
  {
   "cell_type": "code",
   "execution_count": 59,
   "metadata": {},
   "outputs": [
    {
     "name": "stdout",
     "output_type": "stream",
     "text": [
      "(3, 2) (2, 35) (2, 2)\n"
     ]
    }
   ],
   "source": [
    "# Performs matrix factorisation of the original user item matrix\n",
    "u, s, vt = svds(playlist_tracks_sparse, k = 2)  # k is number of factors\n",
    "s = np.diag(s)\n",
    "print(u.shape, vt.shape, s.shape)"
   ]
  },
  {
   "cell_type": "code",
   "execution_count": 60,
   "metadata": {},
   "outputs": [
    {
     "data": {
      "text/plain": [
       "array([[1.00000000e+00, 1.00000000e+00, 2.12578117e-16, 1.92971121e-16,\n",
       "        2.12578117e-16, 1.92971121e-16, 1.92971121e-16, 1.92971121e-16,\n",
       "        1.92971121e-16, 1.00000000e+00, 1.00000000e+00, 2.12578117e-16,\n",
       "        1.00000000e+00, 2.12578117e-16, 1.00000000e+00, 1.00000000e+00,\n",
       "        1.00000000e+00, 1.00000000e+00, 1.92971121e-16, 1.92971121e-16,\n",
       "        2.12578117e-16, 2.12578117e-16, 2.12578117e-16, 2.12578117e-16,\n",
       "        2.12578117e-16, 1.00000000e+00, 1.00000000e+00, 1.00000000e+00,\n",
       "        1.92971121e-16, 2.12578117e-16, 1.92971121e-16, 1.00000000e+00,\n",
       "        1.98074819e-16, 2.08145428e-16, 1.98074819e-16],\n",
       "       [1.56707589e-16, 3.06658462e-16, 8.49779301e-02, 2.78848851e-01,\n",
       "        8.49779301e-02, 2.78848851e-01, 2.78848851e-01, 2.78848851e-01,\n",
       "        2.78848851e-01, 3.06658462e-16, 3.06658462e-16, 8.49779301e-02,\n",
       "        3.06658462e-16, 8.49779301e-02, 3.06658462e-16, 3.06658462e-16,\n",
       "        3.06658462e-16, 3.06658462e-16, 2.78848851e-01, 2.78848851e-01,\n",
       "        8.49779301e-02, 8.49779301e-02, 8.49779301e-02, 8.49779301e-02,\n",
       "        8.49779301e-02, 3.06658462e-16, 3.06658462e-16, 3.06658462e-16,\n",
       "        2.78848851e-01, 8.49779301e-02, 2.78848851e-01, 3.06658462e-16,\n",
       "        2.78848851e-01, 8.49779301e-02, 2.78848851e-01],\n",
       "       [0.00000000e+00, 4.92052802e-16, 2.78848851e-01, 9.15022070e-01,\n",
       "        2.78848851e-01, 9.15022070e-01, 9.15022070e-01, 9.15022070e-01,\n",
       "        9.15022070e-01, 4.92052802e-16, 4.92052802e-16, 2.78848851e-01,\n",
       "        4.92052802e-16, 2.78848851e-01, 4.92052802e-16, 4.92052802e-16,\n",
       "        4.92052802e-16, 4.92052802e-16, 9.15022070e-01, 9.15022070e-01,\n",
       "        2.78848851e-01, 2.78848851e-01, 2.78848851e-01, 2.78848851e-01,\n",
       "        2.78848851e-01, 4.92052802e-16, 4.92052802e-16, 4.92052802e-16,\n",
       "        9.15022070e-01, 2.78848851e-01, 9.15022070e-01, 4.92052802e-16,\n",
       "        9.15022070e-01, 2.78848851e-01, 9.15022070e-01]])"
      ]
     },
     "execution_count": 60,
     "metadata": {},
     "output_type": "execute_result"
    }
   ],
   "source": [
    "playlist_predicted_ratings = np.dot(np.dot(u, s), vt) \n",
    "playlist_predicted_ratings\n",
    "# MinMaxScaler doesn't work for global min(), max()\n",
    "playlist_predicted_ratings_norm = (playlist_predicted_ratings - playlist_predicted_ratings.min()\n",
    "                                  ) / (playlist_predicted_ratings.max() - playlist_predicted_ratings.min())\n",
    "playlist_predicted_ratings_norm"
   ]
  },
  {
   "cell_type": "code",
   "execution_count": 61,
   "metadata": {},
   "outputs": [
    {
     "data": {
      "text/plain": [
       "(35, 3)"
      ]
     },
     "execution_count": 61,
     "metadata": {},
     "output_type": "execute_result"
    }
   ],
   "source": [
    "#Converting the reconstructed matrix back to a Pandas dataframe\n",
    "matrix_preds_df = pd.DataFrame(playlist_predicted_ratings_norm, columns = playlist_tracks_matrix_df.columns, \n",
    "                               index=playlist_tracks_df['playlist_id'].unique()).transpose()\n",
    "matrix_preds_df.shape"
   ]
  },
  {
   "cell_type": "markdown",
   "metadata": {},
   "source": [
    "### Apply Collaborative Recommender\n",
    "\n",
    "Now that we have completed our matrix factorisation, we can apply a collaborative recommender."
   ]
  },
  {
   "cell_type": "code",
   "execution_count": 62,
   "metadata": {},
   "outputs": [],
   "source": [
    "class CollaborativeRecommender:\n",
    "    \n",
    "    def __init__(self, tracks, matrix_preds_df):\n",
    "        self.tracks = tracks\n",
    "        self.matrix_preds_df = matrix_preds_df\n",
    "        self.model_name = 'Collaborative Recommender'\n",
    "    \n",
    "    def recommend_tracks(self, playlist_id, ignore_ids=[]):\n",
    "        sorted_playlist_predictions = self.matrix_preds_df[playlist_id].sort_values(ascending=False) \\\n",
    "                                        .reset_index().rename(columns={playlist_id: 'recStrength'})        \n",
    "        recommendations_df = sorted_playlist_predictions[~sorted_playlist_predictions['id'].isin(ignore_ids)] \\\n",
    "                                .drop_duplicates(subset='id', keep=\"first\").reset_index() \\\n",
    "                                .sort_values('recStrength', ascending = False)\n",
    "        \n",
    "        return recommendations_df\n",
    "\n",
    "collaborative_model = CollaborativeRecommender(playlist_tracks_df, matrix_preds_df)"
   ]
  },
  {
   "cell_type": "code",
   "execution_count": 64,
   "metadata": {},
   "outputs": [
    {
     "data": {
      "text/html": [
       "<div>\n",
       "<style scoped>\n",
       "    .dataframe tbody tr th:only-of-type {\n",
       "        vertical-align: middle;\n",
       "    }\n",
       "\n",
       "    .dataframe tbody tr th {\n",
       "        vertical-align: top;\n",
       "    }\n",
       "\n",
       "    .dataframe thead th {\n",
       "        text-align: right;\n",
       "    }\n",
       "</style>\n",
       "<table border=\"1\" class=\"dataframe\">\n",
       "  <thead>\n",
       "    <tr style=\"text-align: right;\">\n",
       "      <th></th>\n",
       "      <th>id</th>\n",
       "      <th>name</th>\n",
       "      <th>artist_name</th>\n",
       "      <th>album_name</th>\n",
       "      <th>recStrength</th>\n",
       "    </tr>\n",
       "  </thead>\n",
       "  <tbody>\n",
       "    <tr>\n",
       "      <th>0</th>\n",
       "      <td>0hhzNPE68LWLfgZwdpxVdR</td>\n",
       "      <td>us. (feat. Taylor Swift)</td>\n",
       "      <td>Gracie Abrams</td>\n",
       "      <td>The Secret of Us</td>\n",
       "      <td>2.125781e-16</td>\n",
       "    </tr>\n",
       "    <tr>\n",
       "      <th>1</th>\n",
       "      <td>5N3hjp1WNayUPZrA8kJmJP</td>\n",
       "      <td>Please Please Please</td>\n",
       "      <td>Sabrina Carpenter</td>\n",
       "      <td>Please Please Please</td>\n",
       "      <td>2.125781e-16</td>\n",
       "    </tr>\n",
       "    <tr>\n",
       "      <th>2</th>\n",
       "      <td>2bl81llf715VEEbAx03yvB</td>\n",
       "      <td>Close To You</td>\n",
       "      <td>Gracie Abrams</td>\n",
       "      <td>The Secret of Us</td>\n",
       "      <td>2.125781e-16</td>\n",
       "    </tr>\n",
       "    <tr>\n",
       "      <th>3</th>\n",
       "      <td>2SPbioo65CuUB3H0aW1ID5</td>\n",
       "      <td>Bored</td>\n",
       "      <td>Laufey</td>\n",
       "      <td>Bewitched: The Goddess Edition</td>\n",
       "      <td>2.125781e-16</td>\n",
       "    </tr>\n",
       "    <tr>\n",
       "      <th>4</th>\n",
       "      <td>4KGGeE7RJsgLNZmnxGFlOj</td>\n",
       "      <td>Falling Behind</td>\n",
       "      <td>Laufey</td>\n",
       "      <td>Everything I Know About Love</td>\n",
       "      <td>2.125781e-16</td>\n",
       "    </tr>\n",
       "  </tbody>\n",
       "</table>\n",
       "</div>"
      ],
      "text/plain": [
       "                       id                      name        artist_name  \\\n",
       "0  0hhzNPE68LWLfgZwdpxVdR  us. (feat. Taylor Swift)      Gracie Abrams   \n",
       "1  5N3hjp1WNayUPZrA8kJmJP      Please Please Please  Sabrina Carpenter   \n",
       "2  2bl81llf715VEEbAx03yvB              Close To You      Gracie Abrams   \n",
       "3  2SPbioo65CuUB3H0aW1ID5                     Bored             Laufey   \n",
       "4  4KGGeE7RJsgLNZmnxGFlOj            Falling Behind             Laufey   \n",
       "\n",
       "                       album_name   recStrength  \n",
       "0                The Secret of Us  2.125781e-16  \n",
       "1            Please Please Please  2.125781e-16  \n",
       "2                The Secret of Us  2.125781e-16  \n",
       "3  Bewitched: The Goddess Edition  2.125781e-16  \n",
       "4    Everything I Know About Love  2.125781e-16  "
      ]
     },
     "execution_count": 64,
     "metadata": {},
     "output_type": "execute_result"
    }
   ],
   "source": [
    "collaborative_model_recommendations = collaborative_model.recommend_tracks(playlist_ids['Hello'], interacted_tracks['id'].tolist())\n",
    "# Get track details from original track data\n",
    "collaborative_model_recommendations_name = pd.merge(collaborative_model_recommendations, playlist_tracks_df.drop_duplicates(subset='id', keep=\"first\"), how='left', on='id')\n",
    "collaborative_model_recommendations_name[['id', 'name', 'artist_name', 'album_name', 'recStrength']].head()"
   ]
  },
  {
   "cell_type": "code",
   "execution_count": 65,
   "metadata": {},
   "outputs": [
    {
     "name": "stdout",
     "output_type": "stream",
     "text": [
      "{'model_name': 'Collaborative Recommender', 'recall@5': np.float64(0.6666666666666666), 'recall@10': np.float64(0.6666666666666666)}\n"
     ]
    },
    {
     "data": {
      "text/html": [
       "<div>\n",
       "<style scoped>\n",
       "    .dataframe tbody tr th:only-of-type {\n",
       "        vertical-align: middle;\n",
       "    }\n",
       "\n",
       "    .dataframe tbody tr th {\n",
       "        vertical-align: top;\n",
       "    }\n",
       "\n",
       "    .dataframe thead th {\n",
       "        text-align: right;\n",
       "    }\n",
       "</style>\n",
       "<table border=\"1\" class=\"dataframe\">\n",
       "  <thead>\n",
       "    <tr style=\"text-align: right;\">\n",
       "      <th></th>\n",
       "      <th>n</th>\n",
       "      <th>evaluation_count</th>\n",
       "      <th>hits@5</th>\n",
       "      <th>hits@10</th>\n",
       "      <th>recall@5</th>\n",
       "      <th>recall@10</th>\n",
       "    </tr>\n",
       "  </thead>\n",
       "  <tbody>\n",
       "    <tr>\n",
       "      <th>0</th>\n",
       "      <td>100</td>\n",
       "      <td>3</td>\n",
       "      <td>3</td>\n",
       "      <td>3</td>\n",
       "      <td>1.0</td>\n",
       "      <td>1.0</td>\n",
       "    </tr>\n",
       "    <tr>\n",
       "      <th>2</th>\n",
       "      <td>100</td>\n",
       "      <td>3</td>\n",
       "      <td>3</td>\n",
       "      <td>3</td>\n",
       "      <td>1.0</td>\n",
       "      <td>1.0</td>\n",
       "    </tr>\n",
       "    <tr>\n",
       "      <th>1</th>\n",
       "      <td>100</td>\n",
       "      <td>3</td>\n",
       "      <td>0</td>\n",
       "      <td>0</td>\n",
       "      <td>0.0</td>\n",
       "      <td>0.0</td>\n",
       "    </tr>\n",
       "  </tbody>\n",
       "</table>\n",
       "</div>"
      ],
      "text/plain": [
       "     n  evaluation_count  hits@5  hits@10  recall@5  recall@10\n",
       "0  100                 3       3        3       1.0        1.0\n",
       "2  100                 3       3        3       1.0        1.0\n",
       "1  100                 3       0        0       0.0        0.0"
      ]
     },
     "execution_count": 65,
     "metadata": {},
     "output_type": "execute_result"
    }
   ],
   "source": [
    "collaborative_model_metrics, collaborative_model_details = model_evaluator.evaluate_model(collaborative_model)\n",
    "\n",
    "print(collaborative_model_metrics)\n",
    "collaborative_model_details[[x for x in collaborative_model_details.columns if x != 'playlist_id']] \\\n",
    "    .sort_values('recall@5', ascending=False) \\\n",
    "    .head()"
   ]
  },
  {
   "cell_type": "markdown",
   "metadata": {},
   "source": [
    "The collaborative recommender performs better than the popularity approach but is not as good as the content-based approach as genre appears to be the most powerful feature."
   ]
  },
  {
   "cell_type": "markdown",
   "metadata": {},
   "source": [
    "## Hybrid Recommender\n",
    "\n",
    "Combining the content-based and collaborative approaches into a hybrid method have been shown to perform better in many studies. Here we build an ensemble which takes the weighted average of the normalized recommendation scores. As the content-based approach has a higher recall we will apply a weighting."
   ]
  },
  {
   "cell_type": "code",
   "execution_count": 66,
   "metadata": {},
   "outputs": [],
   "source": [
    "class HybridRecommender:\n",
    "\n",
    "    def __init__(self, tracks, content_model, collaborative_model, content_weight=2, collaborative_weight=1):\n",
    "        self.tracks = tracks\n",
    "        self.model_name = 'Hybrid Recommender'\n",
    "        self.content_model = content_model\n",
    "        self.collaborative_model = collaborative_model\n",
    "        # Relative weights\n",
    "        self.content_weight = content_weight\n",
    "        self.collaborative_weight = collaborative_weight\n",
    "        \n",
    "    def recommend_tracks(self, playlist_id, ignore_ids=[]): \n",
    "        \n",
    "        content_recs_df = self.content_model.recommend_tracks(\n",
    "            playlist_id, ignore_ids).rename(columns={'recStrength': 'recStrengthContent'})\n",
    "        collaborative_recs_df = self.collaborative_model.recommend_tracks(\n",
    "            playlist_id, ignore_ids).rename(columns={'recStrength': 'recStrengthCollaborative'})\n",
    "        combined_recs_df = content_recs_df.merge(collaborative_recs_df,\n",
    "                                                 how = 'outer', \n",
    "                                                 on = 'id',\n",
    "                                                ).fillna(0)\n",
    "        # Compute hybrid score based on weights\n",
    "        combined_recs_df['recStrengthHybrid'] = (combined_recs_df['recStrengthContent'] * self.content_weight) \\\n",
    "                                                + (combined_recs_df['recStrengthCollaborative'] * self.collaborative_weight)\n",
    "        recommendations_df = combined_recs_df \\\n",
    "                                .drop_duplicates(subset='id', keep=\"first\").reset_index() \\\n",
    "                                .sort_values('recStrengthHybrid', ascending=False)\n",
    "\n",
    "        return recommendations_df\n",
    "    \n",
    "hybrid_model = HybridRecommender(playlist_tracks_df, content_model, collaborative_model)"
   ]
  },
  {
   "cell_type": "code",
   "execution_count": 69,
   "metadata": {},
   "outputs": [
    {
     "data": {
      "text/html": [
       "<div>\n",
       "<style scoped>\n",
       "    .dataframe tbody tr th:only-of-type {\n",
       "        vertical-align: middle;\n",
       "    }\n",
       "\n",
       "    .dataframe tbody tr th {\n",
       "        vertical-align: top;\n",
       "    }\n",
       "\n",
       "    .dataframe thead th {\n",
       "        text-align: right;\n",
       "    }\n",
       "</style>\n",
       "<table border=\"1\" class=\"dataframe\">\n",
       "  <thead>\n",
       "    <tr style=\"text-align: right;\">\n",
       "      <th></th>\n",
       "      <th>id</th>\n",
       "      <th>name</th>\n",
       "      <th>artist_name</th>\n",
       "      <th>album_name</th>\n",
       "      <th>recStrengthHybrid</th>\n",
       "    </tr>\n",
       "  </thead>\n",
       "  <tbody>\n",
       "    <tr>\n",
       "      <th>0</th>\n",
       "      <td>28drn6tQo95MRvO0jQEo5C</td>\n",
       "      <td>Type Shit</td>\n",
       "      <td>Future</td>\n",
       "      <td>WE DON'T TRUST YOU</td>\n",
       "      <td>0.909618</td>\n",
       "    </tr>\n",
       "    <tr>\n",
       "      <th>1</th>\n",
       "      <td>42VsgItocQwOQC3XWZ8JNA</td>\n",
       "      <td>FE!N (feat. Playboi Carti)</td>\n",
       "      <td>Travis Scott</td>\n",
       "      <td>UTOPIA</td>\n",
       "      <td>0.088529</td>\n",
       "    </tr>\n",
       "    <tr>\n",
       "      <th>2</th>\n",
       "      <td>3xby7fOyqmeON8jsnom0AT</td>\n",
       "      <td>Nightcrawler (feat. Swae Lee &amp; Chief Keef)</td>\n",
       "      <td>Travis Scott</td>\n",
       "      <td>Rodeo</td>\n",
       "      <td>0.077268</td>\n",
       "    </tr>\n",
       "    <tr>\n",
       "      <th>3</th>\n",
       "      <td>6NMtzpDQBTOfJwMzgMX0zl</td>\n",
       "      <td>SKELETONS</td>\n",
       "      <td>Travis Scott</td>\n",
       "      <td>ASTROWORLD</td>\n",
       "      <td>0.070650</td>\n",
       "    </tr>\n",
       "    <tr>\n",
       "      <th>4</th>\n",
       "      <td>6gBFPUFcJLzWGx4lenP6h2</td>\n",
       "      <td>goosebumps</td>\n",
       "      <td>Travis Scott</td>\n",
       "      <td>Birds In The Trap Sing McKnight</td>\n",
       "      <td>0.069106</td>\n",
       "    </tr>\n",
       "  </tbody>\n",
       "</table>\n",
       "</div>"
      ],
      "text/plain": [
       "                       id                                        name  \\\n",
       "0  28drn6tQo95MRvO0jQEo5C                                   Type Shit   \n",
       "1  42VsgItocQwOQC3XWZ8JNA                  FE!N (feat. Playboi Carti)   \n",
       "2  3xby7fOyqmeON8jsnom0AT  Nightcrawler (feat. Swae Lee & Chief Keef)   \n",
       "3  6NMtzpDQBTOfJwMzgMX0zl                                   SKELETONS   \n",
       "4  6gBFPUFcJLzWGx4lenP6h2                                  goosebumps   \n",
       "\n",
       "    artist_name                       album_name  recStrengthHybrid  \n",
       "0        Future               WE DON'T TRUST YOU           0.909618  \n",
       "1  Travis Scott                           UTOPIA           0.088529  \n",
       "2  Travis Scott                            Rodeo           0.077268  \n",
       "3  Travis Scott                       ASTROWORLD           0.070650  \n",
       "4  Travis Scott  Birds In The Trap Sing McKnight           0.069106  "
      ]
     },
     "execution_count": 69,
     "metadata": {},
     "output_type": "execute_result"
    }
   ],
   "source": [
    "hybrid_model_recommendations = hybrid_model.recommend_tracks(playlist_ids['Hello'], interacted_tracks['id'].tolist())\n",
    "# Get track details from original track data\n",
    "hybrid_model_recommendations_name = pd.merge(hybrid_model_recommendations, playlist_tracks_df.drop_duplicates(subset='id', keep=\"first\"), how='left', on='id')\n",
    "hybrid_model_recommendations_name[['id', 'name', 'artist_name', 'album_name', 'recStrengthHybrid']].head()"
   ]
  },
  {
   "cell_type": "code",
   "execution_count": 70,
   "metadata": {},
   "outputs": [
    {
     "name": "stdout",
     "output_type": "stream",
     "text": [
      "{'model_name': 'Hybrid Recommender', 'recall@5': np.float64(1.0), 'recall@10': np.float64(1.0)}\n"
     ]
    },
    {
     "data": {
      "text/html": [
       "<div>\n",
       "<style scoped>\n",
       "    .dataframe tbody tr th:only-of-type {\n",
       "        vertical-align: middle;\n",
       "    }\n",
       "\n",
       "    .dataframe tbody tr th {\n",
       "        vertical-align: top;\n",
       "    }\n",
       "\n",
       "    .dataframe thead th {\n",
       "        text-align: right;\n",
       "    }\n",
       "</style>\n",
       "<table border=\"1\" class=\"dataframe\">\n",
       "  <thead>\n",
       "    <tr style=\"text-align: right;\">\n",
       "      <th></th>\n",
       "      <th>n</th>\n",
       "      <th>evaluation_count</th>\n",
       "      <th>hits@5</th>\n",
       "      <th>hits@10</th>\n",
       "      <th>recall@5</th>\n",
       "      <th>recall@10</th>\n",
       "    </tr>\n",
       "  </thead>\n",
       "  <tbody>\n",
       "    <tr>\n",
       "      <th>0</th>\n",
       "      <td>100</td>\n",
       "      <td>3</td>\n",
       "      <td>3</td>\n",
       "      <td>3</td>\n",
       "      <td>1.0</td>\n",
       "      <td>1.0</td>\n",
       "    </tr>\n",
       "    <tr>\n",
       "      <th>1</th>\n",
       "      <td>100</td>\n",
       "      <td>3</td>\n",
       "      <td>3</td>\n",
       "      <td>3</td>\n",
       "      <td>1.0</td>\n",
       "      <td>1.0</td>\n",
       "    </tr>\n",
       "    <tr>\n",
       "      <th>2</th>\n",
       "      <td>100</td>\n",
       "      <td>3</td>\n",
       "      <td>3</td>\n",
       "      <td>3</td>\n",
       "      <td>1.0</td>\n",
       "      <td>1.0</td>\n",
       "    </tr>\n",
       "  </tbody>\n",
       "</table>\n",
       "</div>"
      ],
      "text/plain": [
       "     n  evaluation_count  hits@5  hits@10  recall@5  recall@10\n",
       "0  100                 3       3        3       1.0        1.0\n",
       "1  100                 3       3        3       1.0        1.0\n",
       "2  100                 3       3        3       1.0        1.0"
      ]
     },
     "execution_count": 70,
     "metadata": {},
     "output_type": "execute_result"
    }
   ],
   "source": [
    "hybrid_model_metrics, hybrid_model_details = model_evaluator.evaluate_model(hybrid_model)\n",
    "\n",
    "print(hybrid_model_metrics)\n",
    "hybrid_model_details[[x for x in hybrid_model_details.columns if x != 'playlist_id']] \\\n",
    "    .sort_values('recall@5', ascending=False) \\\n",
    "    .head()"
   ]
  },
  {
   "cell_type": "markdown",
   "metadata": {},
   "source": [
    "In this case solely applying the content-based recommender actually performs better. As discussed previously, this is because this is a playlist based dataset where each playlist tends to be genre/mood based."
   ]
  },
  {
   "cell_type": "markdown",
   "metadata": {},
   "source": [
    "### HybridPopularity Recommender\n",
    "\n",
    "In practice we don't want to overfit on any one approach and as the content-based approach has shown a strong preference for genre for this dataset it's better to incorporate variety. Things that are popular are liked by a lot of people so we should also recommend a few things that are popular. This helps to avoid a recommendation loop where a user is consistently recommended songs from a certain genre (as similar tracks via collaborative content-based recommendations will likely be of a few set genres)."
   ]
  },
  {
   "cell_type": "code",
   "execution_count": 71,
   "metadata": {},
   "outputs": [],
   "source": [
    "class HybridPopularityRecommender:\n",
    "\n",
    "    def __init__(self, tracks, content_model, collaborative_model, popularity_model, \n",
    "                 content_weight=1, collaborative_weight=2, popularity_weight=1):\n",
    "        self.tracks = tracks\n",
    "        self.model_name = 'HybridPopularity Recommender'\n",
    "        self.content_model = content_model\n",
    "        self.collaborative_model = collaborative_model\n",
    "        self.popularity_model = popularity_model\n",
    "        # Relative weights\n",
    "        self.content_weight = content_weight\n",
    "        self.collaborative_weight = collaborative_weight\n",
    "        self.popularity_weight = popularity_weight\n",
    "        \n",
    "    def recommend_tracks(self, playlist_id, ignore_ids=[]): \n",
    "        \n",
    "        content_recs_df = self.content_model.recommend_tracks(\n",
    "            playlist_id, ignore_ids).rename(columns={'recStrength': 'recStrengthContent'})\n",
    "        collaborative_recs_df = self.collaborative_model.recommend_tracks(\n",
    "            playlist_id, ignore_ids).rename(columns={'recStrength': 'recStrengthCollaborative'})\n",
    "        popularity_recs_df = self.popularity_model.recommend_tracks(\n",
    "            playlist_id, ignore_ids).rename(columns={'popularity': 'recStrengthPopularity'})\n",
    "        combined_recs_df = content_recs_df.merge(collaborative_recs_df,\n",
    "                                                 how = 'outer', \n",
    "                                                 on = 'id',\n",
    "                                                ).merge(popularity_recs_df,\n",
    "                                                        how = 'outer', \n",
    "                                                        on = 'id',\n",
    "                                                       ).fillna(0)\n",
    "        # Compute hybrid score based on weights\n",
    "        combined_recs_df['recStrengthHybridPopularity'] = (combined_recs_df['recStrengthContent'] * self.content_weight) \\\n",
    "                                                            + (combined_recs_df['recStrengthCollaborative'] * self.collaborative_weight) \\\n",
    "                                                            + (popularity_recs_df['recStrengthPopularity'] * self.popularity_weight)\n",
    "        recommendations_df = combined_recs_df \\\n",
    "                                .drop_duplicates(subset='id', keep=\"first\").reset_index() \\\n",
    "                                .sort_values('recStrengthHybridPopularity', ascending=False)\n",
    "\n",
    "        return recommendations_df\n",
    "    \n",
    "hybridpopularity_model = HybridPopularityRecommender(playlist_tracks_df, content_model, collaborative_model, popularity_model)"
   ]
  },
  {
   "cell_type": "code",
   "execution_count": 73,
   "metadata": {},
   "outputs": [
    {
     "data": {
      "text/html": [
       "<div>\n",
       "<style scoped>\n",
       "    .dataframe tbody tr th:only-of-type {\n",
       "        vertical-align: middle;\n",
       "    }\n",
       "\n",
       "    .dataframe tbody tr th {\n",
       "        vertical-align: top;\n",
       "    }\n",
       "\n",
       "    .dataframe thead th {\n",
       "        text-align: right;\n",
       "    }\n",
       "</style>\n",
       "<table border=\"1\" class=\"dataframe\">\n",
       "  <thead>\n",
       "    <tr style=\"text-align: right;\">\n",
       "      <th></th>\n",
       "      <th>id</th>\n",
       "      <th>name</th>\n",
       "      <th>artist_name</th>\n",
       "      <th>album_name</th>\n",
       "      <th>recStrengthHybridPopularity</th>\n",
       "    </tr>\n",
       "  </thead>\n",
       "  <tbody>\n",
       "    <tr>\n",
       "      <th>4</th>\n",
       "      <td>28drn6tQo95MRvO0jQEo5C</td>\n",
       "      <td>Type Shit</td>\n",
       "      <td>Future</td>\n",
       "      <td>WE DON'T TRUST YOU</td>\n",
       "      <td>1.214809</td>\n",
       "    </tr>\n",
       "    <tr>\n",
       "      <th>16</th>\n",
       "      <td>6NMtzpDQBTOfJwMzgMX0zl</td>\n",
       "      <td>SKELETONS</td>\n",
       "      <td>Travis Scott</td>\n",
       "      <td>ASTROWORLD</td>\n",
       "      <td>0.925325</td>\n",
       "    </tr>\n",
       "    <tr>\n",
       "      <th>10</th>\n",
       "      <td>42VsgItocQwOQC3XWZ8JNA</td>\n",
       "      <td>FE!N (feat. Playboi Carti)</td>\n",
       "      <td>Travis Scott</td>\n",
       "      <td>UTOPIA</td>\n",
       "      <td>0.924265</td>\n",
       "    </tr>\n",
       "    <tr>\n",
       "      <th>12</th>\n",
       "      <td>4FF0Te5R85sLW8MNvehHKK</td>\n",
       "      <td>That’s So True</td>\n",
       "      <td>Gracie Abrams</td>\n",
       "      <td>The Secret of Us (Deluxe)</td>\n",
       "      <td>0.910000</td>\n",
       "    </tr>\n",
       "    <tr>\n",
       "      <th>5</th>\n",
       "      <td>2Ch7LmS7r2Gy2kc64wv3Bz</td>\n",
       "      <td>Die For You</td>\n",
       "      <td>The Weeknd</td>\n",
       "      <td>Starboy</td>\n",
       "      <td>0.906452</td>\n",
       "    </tr>\n",
       "  </tbody>\n",
       "</table>\n",
       "</div>"
      ],
      "text/plain": [
       "                        id                        name    artist_name  \\\n",
       "4   28drn6tQo95MRvO0jQEo5C                   Type Shit         Future   \n",
       "16  6NMtzpDQBTOfJwMzgMX0zl                   SKELETONS   Travis Scott   \n",
       "10  42VsgItocQwOQC3XWZ8JNA  FE!N (feat. Playboi Carti)   Travis Scott   \n",
       "12  4FF0Te5R85sLW8MNvehHKK              That’s So True  Gracie Abrams   \n",
       "5   2Ch7LmS7r2Gy2kc64wv3Bz                 Die For You     The Weeknd   \n",
       "\n",
       "                   album_name  recStrengthHybridPopularity  \n",
       "4          WE DON'T TRUST YOU                     1.214809  \n",
       "16                 ASTROWORLD                     0.925325  \n",
       "10                     UTOPIA                     0.924265  \n",
       "12  The Secret of Us (Deluxe)                     0.910000  \n",
       "5                     Starboy                     0.906452  "
      ]
     },
     "execution_count": 73,
     "metadata": {},
     "output_type": "execute_result"
    }
   ],
   "source": [
    "hybridpopularity_model_recommendations = hybridpopularity_model.recommend_tracks(playlist_ids['Hello'], interacted_tracks['id'].tolist())\n",
    "hybridpopularity_model_recommendations[['id', 'name', 'artist_name', 'album_name', 'recStrengthHybridPopularity']].head()"
   ]
  },
  {
   "cell_type": "code",
   "execution_count": 74,
   "metadata": {},
   "outputs": [
    {
     "name": "stdout",
     "output_type": "stream",
     "text": [
      "{'model_name': 'HybridPopularity Recommender', 'recall@5': np.float64(0.8888888888888888), 'recall@10': np.float64(1.0)}\n"
     ]
    },
    {
     "data": {
      "text/html": [
       "<div>\n",
       "<style scoped>\n",
       "    .dataframe tbody tr th:only-of-type {\n",
       "        vertical-align: middle;\n",
       "    }\n",
       "\n",
       "    .dataframe tbody tr th {\n",
       "        vertical-align: top;\n",
       "    }\n",
       "\n",
       "    .dataframe thead th {\n",
       "        text-align: right;\n",
       "    }\n",
       "</style>\n",
       "<table border=\"1\" class=\"dataframe\">\n",
       "  <thead>\n",
       "    <tr style=\"text-align: right;\">\n",
       "      <th></th>\n",
       "      <th>n</th>\n",
       "      <th>evaluation_count</th>\n",
       "      <th>hits@5</th>\n",
       "      <th>hits@10</th>\n",
       "      <th>recall@5</th>\n",
       "      <th>recall@10</th>\n",
       "    </tr>\n",
       "  </thead>\n",
       "  <tbody>\n",
       "    <tr>\n",
       "      <th>0</th>\n",
       "      <td>100</td>\n",
       "      <td>3</td>\n",
       "      <td>3</td>\n",
       "      <td>3</td>\n",
       "      <td>1.000000</td>\n",
       "      <td>1.0</td>\n",
       "    </tr>\n",
       "    <tr>\n",
       "      <th>2</th>\n",
       "      <td>100</td>\n",
       "      <td>3</td>\n",
       "      <td>3</td>\n",
       "      <td>3</td>\n",
       "      <td>1.000000</td>\n",
       "      <td>1.0</td>\n",
       "    </tr>\n",
       "    <tr>\n",
       "      <th>1</th>\n",
       "      <td>100</td>\n",
       "      <td>3</td>\n",
       "      <td>2</td>\n",
       "      <td>3</td>\n",
       "      <td>0.666667</td>\n",
       "      <td>1.0</td>\n",
       "    </tr>\n",
       "  </tbody>\n",
       "</table>\n",
       "</div>"
      ],
      "text/plain": [
       "     n  evaluation_count  hits@5  hits@10  recall@5  recall@10\n",
       "0  100                 3       3        3  1.000000        1.0\n",
       "2  100                 3       3        3  1.000000        1.0\n",
       "1  100                 3       2        3  0.666667        1.0"
      ]
     },
     "execution_count": 74,
     "metadata": {},
     "output_type": "execute_result"
    }
   ],
   "source": [
    "hybridpopularity_model_metrics, hybridpopularity_model_details = model_evaluator.evaluate_model(hybridpopularity_model)\n",
    "\n",
    "print(hybridpopularity_model_metrics)\n",
    "hybridpopularity_model_details[[x for x in hybridpopularity_model_details.columns if x != 'playlist_id']] \\\n",
    "    .sort_values('recall@5', ascending=False) \\\n",
    "    .head()"
   ]
  },
  {
   "cell_type": "markdown",
   "metadata": {},
   "source": [
    "The model weighting were set ad-hoc and should be adjusted freely. Personally I believe this HybridPopularity recommender gives the recommendations so far in practice, even though it has a lower recall than the hybrid and content-based recommender. It may therefore be better to incorporate other evaluation metrics such as one that measures variety, or increase the scope of this dataset as its current playlist based approach means that pure genre-based recommendations perform the best."
   ]
  },
  {
   "cell_type": "markdown",
   "metadata": {},
   "source": [
    "## Recommendations\n",
    "- Let's see what songs the HybridPopularity recommender suggests to add to the 'Chill' playlist"
   ]
  },
  {
   "cell_type": "code",
   "execution_count": 75,
   "metadata": {},
   "outputs": [
    {
     "data": {
      "text/plain": [
       "1"
      ]
     },
     "execution_count": 75,
     "metadata": {},
     "output_type": "execute_result"
    }
   ],
   "source": [
    "# 243 tracks where prob_ratings >= 1.15 which is a good number\n",
    "tracks_to_add = hybridpopularity_model_recommendations[hybridpopularity_model_recommendations['recStrengthHybridPopularity'] >= 1.15]['id']\n",
    "len(tracks_to_add)"
   ]
  },
  {
   "cell_type": "code",
   "execution_count": 77,
   "metadata": {},
   "outputs": [
    {
     "ename": "KeyError",
     "evalue": "'user'",
     "output_type": "error",
     "traceback": [
      "\u001b[1;31m---------------------------------------------------------------------------\u001b[0m",
      "\u001b[1;31mKeyError\u001b[0m                                  Traceback (most recent call last)",
      "Cell \u001b[1;32mIn[77], line 15\u001b[0m\n\u001b[0;32m      7\u001b[0m sp \u001b[38;5;241m=\u001b[39m spotipy\u001b[38;5;241m.\u001b[39mSpotify(auth_manager\u001b[38;5;241m=\u001b[39mSpotifyOAuth(\n\u001b[0;32m      8\u001b[0m     client_id\u001b[38;5;241m=\u001b[39mspotify_details[\u001b[38;5;124m'\u001b[39m\u001b[38;5;124mclient_id\u001b[39m\u001b[38;5;124m'\u001b[39m],\n\u001b[0;32m      9\u001b[0m     client_secret\u001b[38;5;241m=\u001b[39mspotify_details[\u001b[38;5;124m'\u001b[39m\u001b[38;5;124mclient_secret\u001b[39m\u001b[38;5;124m'\u001b[39m],\n\u001b[0;32m     10\u001b[0m     redirect_uri\u001b[38;5;241m=\u001b[39mspotify_details[\u001b[38;5;124m'\u001b[39m\u001b[38;5;124mredirect_uri\u001b[39m\u001b[38;5;124m'\u001b[39m],\n\u001b[0;32m     11\u001b[0m     scope\u001b[38;5;241m=\u001b[39mscope,\n\u001b[0;32m     12\u001b[0m ))\n\u001b[0;32m     14\u001b[0m \u001b[38;5;66;03m# Create a new playlist for tracks to add - you may also add these tracks to your source playlist and proceed\u001b[39;00m\n\u001b[1;32m---> 15\u001b[0m new_playlist \u001b[38;5;241m=\u001b[39m sp\u001b[38;5;241m.\u001b[39muser_playlist_create(user\u001b[38;5;241m=\u001b[39m\u001b[43mspotify_details\u001b[49m\u001b[43m[\u001b[49m\u001b[38;5;124;43m'\u001b[39;49m\u001b[38;5;124;43muser\u001b[39;49m\u001b[38;5;124;43m'\u001b[39;49m\u001b[43m]\u001b[49m, \n\u001b[0;32m     16\u001b[0m                                        name\u001b[38;5;241m=\u001b[39m\u001b[38;5;124m\"\u001b[39m\u001b[38;5;124mspotify-recommender-systems\u001b[39m\u001b[38;5;124m\"\u001b[39m,\n\u001b[0;32m     17\u001b[0m                                        public\u001b[38;5;241m=\u001b[39m\u001b[38;5;28;01mFalse\u001b[39;00m, \n\u001b[0;32m     18\u001b[0m                                        collaborative\u001b[38;5;241m=\u001b[39m\u001b[38;5;28;01mFalse\u001b[39;00m, \n\u001b[0;32m     19\u001b[0m                                        description\u001b[38;5;241m=\u001b[39m\u001b[38;5;124m\"\u001b[39m\u001b[38;5;124mCreated by https://github.com/anthonyli358/spotify-recommender-systems\u001b[39m\u001b[38;5;124m\"\u001b[39m,\n\u001b[0;32m     20\u001b[0m                                       )\n\u001b[0;32m     22\u001b[0m \u001b[38;5;66;03m# Add tracks to the new playlist\u001b[39;00m\n\u001b[0;32m     23\u001b[0m \u001b[38;5;28;01mfor\u001b[39;00m \u001b[38;5;28mid\u001b[39m \u001b[38;5;129;01min\u001b[39;00m tracks_to_add:\n",
      "\u001b[1;31mKeyError\u001b[0m: 'user'"
     ]
    }
   ],
   "source": [
    "# Spotify API\n",
    "with open(\"spotify_details.yml\", 'r') as stream:\n",
    "    spotify_details = yaml.safe_load(stream)\n",
    "\n",
    "scope = \"playlist-modify-private\"\n",
    "\n",
    "sp = spotipy.Spotify(auth_manager=SpotifyOAuth(\n",
    "    client_id=spotify_details['client_id'],\n",
    "    client_secret=spotify_details['client_secret'],\n",
    "    redirect_uri=spotify_details['redirect_uri'],\n",
    "    scope=scope,\n",
    "))\n",
    "\n",
    "# Create a new playlist for tracks to add - you may also add these tracks to your source playlist and proceed\n",
    "new_playlist = sp.user_playlist_create(user=spotify_details['user'], \n",
    "                                       name=\"spotify-recommender-systems\",\n",
    "                                       public=False, \n",
    "                                       collaborative=False, \n",
    "                                       description=\"Created by https://github.com/anthonyli358/spotify-recommender-systems\",\n",
    "                                      )\n",
    "\n",
    "# Add tracks to the new playlist\n",
    "for id in tracks_to_add:\n",
    "    sp.user_playlist_add_tracks(user=spotify_details['user'], \n",
    "                                playlist_id=new_playlist['id'], \n",
    "                                tracks=[id],\n",
    "                               );"
   ]
  },
  {
   "cell_type": "markdown",
   "metadata": {},
   "source": [
    "This worked very well, the playlist is lit."
   ]
  }
 ],
 "metadata": {
  "kernelspec": {
   "display_name": ".venv",
   "language": "python",
   "name": "python3"
  },
  "language_info": {
   "codemirror_mode": {
    "name": "ipython",
    "version": 3
   },
   "file_extension": ".py",
   "mimetype": "text/x-python",
   "name": "python",
   "nbconvert_exporter": "python",
   "pygments_lexer": "ipython3",
   "version": "3.10.7"
  }
 },
 "nbformat": 4,
 "nbformat_minor": 4
}
